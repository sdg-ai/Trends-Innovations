{
 "cells": [
  {
   "cell_type": "code",
   "execution_count": 1,
   "id": "initial_id",
   "metadata": {
    "collapsed": true,
    "ExecuteTime": {
     "end_time": "2024-01-20T21:44:24.662899474Z",
     "start_time": "2024-01-20T21:44:22.037033865Z"
    }
   },
   "outputs": [],
   "source": [
    "import json\n",
    "import numpy as np\n",
    "import pandas as pd\n",
    "from training.data.datasets import load_json_data"
   ]
  },
  {
   "cell_type": "code",
   "outputs": [],
   "source": [
    "# load data\n",
    "with open('../../data/raw_data_annotated_with_chatgpt.json') as f:\n",
    "    raw_data = json.load(f)"
   ],
   "metadata": {
    "collapsed": false,
    "ExecuteTime": {
     "end_time": "2024-01-20T21:44:24.741703980Z",
     "start_time": "2024-01-20T21:44:24.665131828Z"
    }
   },
   "id": "8d82c4b5e9f3d62",
   "execution_count": 2
  },
  {
   "cell_type": "code",
   "outputs": [
    {
     "data": {
      "text/plain": "{'text': {'text': 'Is there a case for a basic income guarantee – Part 5\\nThis is Part 5 in the mini-series discussing the relative merits of the basic income guarantee proposal and the Job Guarantee proposal. It finishes this part of our discussion. Today, I consider how society establishes a fair transition environment to cope with climate change and the impacts of computerisation etc.',\n  'article_id': 1520,\n  'sentence_id': 0,\n  'title': 'Is there a case for a basic income guarantee – Part 5'},\n 'label': 'universal_basic_income',\n 'label2': 'universal_basic_income',\n 'spans': [],\n 'article_id': 1520,\n 'sentence_id': 0,\n 'answer': '',\n 'priority': None,\n 'score': None,\n 'title': 'Is there a case for a basic income guarantee – Part 5',\n 'gpt_first_response_is_invalid': False,\n 'gpt_second_response_is_invalid': False}"
     },
     "execution_count": 3,
     "metadata": {},
     "output_type": "execute_result"
    }
   ],
   "source": [
    "# example\n",
    "raw_data[0]"
   ],
   "metadata": {
    "collapsed": false,
    "ExecuteTime": {
     "end_time": "2024-01-20T21:44:24.774811105Z",
     "start_time": "2024-01-20T21:44:24.746545819Z"
    }
   },
   "id": "16cccd8eb7ae1885",
   "execution_count": 3
  },
  {
   "cell_type": "code",
   "outputs": [
    {
     "name": "stdout",
     "output_type": "stream",
     "text": [
      "(14369, 12)\n"
     ]
    },
    {
     "data": {
      "text/plain": "                                                text                   label  \\\n0  {'text': 'Is there a case for a basic income g...  universal_basic_income   \n1  {'text': 'I outline a coherent adjustment fram...  universal_basic_income   \n2  {'text': 'Adopting a basic income guarantee in...  universal_basic_income   \n3  {'text': 'Just Transition Framework\nThe Just T...  universal_basic_income   \n4  {'text': '][Reference: (1996) ‘Sustainable dev...  universal_basic_income   \n\n                   label2 spans  article_id  sentence_id answer priority  \\\n0  universal_basic_income    []        1520            0            None   \n1  universal_basic_income    []        1520            1            None   \n2  universal_basic_income    []        1520            2            None   \n3  universal_basic_income    []        1520            3            None   \n4  universal_basic_income    []        1520            4            None   \n\n  score                                              title  \\\n0  None  Is there a case for a basic income guarantee –...   \n1  None  Is there a case for a basic income guarantee –...   \n2  None  Is there a case for a basic income guarantee –...   \n3  None  Is there a case for a basic income guarantee –...   \n4  None  Is there a case for a basic income guarantee –...   \n\n   gpt_first_response_is_invalid  gpt_second_response_is_invalid  \n0                          False                           False  \n1                          False                           False  \n2                          False                           False  \n3                          False                           False  \n4                          False                           False  ",
      "text/html": "<div>\n<style scoped>\n    .dataframe tbody tr th:only-of-type {\n        vertical-align: middle;\n    }\n\n    .dataframe tbody tr th {\n        vertical-align: top;\n    }\n\n    .dataframe thead th {\n        text-align: right;\n    }\n</style>\n<table border=\"1\" class=\"dataframe\">\n  <thead>\n    <tr style=\"text-align: right;\">\n      <th></th>\n      <th>text</th>\n      <th>label</th>\n      <th>label2</th>\n      <th>spans</th>\n      <th>article_id</th>\n      <th>sentence_id</th>\n      <th>answer</th>\n      <th>priority</th>\n      <th>score</th>\n      <th>title</th>\n      <th>gpt_first_response_is_invalid</th>\n      <th>gpt_second_response_is_invalid</th>\n    </tr>\n  </thead>\n  <tbody>\n    <tr>\n      <th>0</th>\n      <td>{'text': 'Is there a case for a basic income g...</td>\n      <td>universal_basic_income</td>\n      <td>universal_basic_income</td>\n      <td>[]</td>\n      <td>1520</td>\n      <td>0</td>\n      <td></td>\n      <td>None</td>\n      <td>None</td>\n      <td>Is there a case for a basic income guarantee –...</td>\n      <td>False</td>\n      <td>False</td>\n    </tr>\n    <tr>\n      <th>1</th>\n      <td>{'text': 'I outline a coherent adjustment fram...</td>\n      <td>universal_basic_income</td>\n      <td>universal_basic_income</td>\n      <td>[]</td>\n      <td>1520</td>\n      <td>1</td>\n      <td></td>\n      <td>None</td>\n      <td>None</td>\n      <td>Is there a case for a basic income guarantee –...</td>\n      <td>False</td>\n      <td>False</td>\n    </tr>\n    <tr>\n      <th>2</th>\n      <td>{'text': 'Adopting a basic income guarantee in...</td>\n      <td>universal_basic_income</td>\n      <td>universal_basic_income</td>\n      <td>[]</td>\n      <td>1520</td>\n      <td>2</td>\n      <td></td>\n      <td>None</td>\n      <td>None</td>\n      <td>Is there a case for a basic income guarantee –...</td>\n      <td>False</td>\n      <td>False</td>\n    </tr>\n    <tr>\n      <th>3</th>\n      <td>{'text': 'Just Transition Framework\nThe Just T...</td>\n      <td>universal_basic_income</td>\n      <td>universal_basic_income</td>\n      <td>[]</td>\n      <td>1520</td>\n      <td>3</td>\n      <td></td>\n      <td>None</td>\n      <td>None</td>\n      <td>Is there a case for a basic income guarantee –...</td>\n      <td>False</td>\n      <td>False</td>\n    </tr>\n    <tr>\n      <th>4</th>\n      <td>{'text': '][Reference: (1996) ‘Sustainable dev...</td>\n      <td>universal_basic_income</td>\n      <td>universal_basic_income</td>\n      <td>[]</td>\n      <td>1520</td>\n      <td>4</td>\n      <td></td>\n      <td>None</td>\n      <td>None</td>\n      <td>Is there a case for a basic income guarantee –...</td>\n      <td>False</td>\n      <td>False</td>\n    </tr>\n  </tbody>\n</table>\n</div>"
     },
     "execution_count": 4,
     "metadata": {},
     "output_type": "execute_result"
    }
   ],
   "source": [
    "# create a dataframe from the data\n",
    "df = pd.DataFrame(raw_data)\n",
    "print(df.shape)\n",
    "df.head()"
   ],
   "metadata": {
    "collapsed": false,
    "ExecuteTime": {
     "end_time": "2024-01-20T21:44:24.807749249Z",
     "start_time": "2024-01-20T21:44:24.749718421Z"
    }
   },
   "id": "b77643083fd3f10b",
   "execution_count": 4
  },
  {
   "cell_type": "code",
   "outputs": [
    {
     "data": {
      "text/plain": "gpt_first_response_is_invalid\nFalse    12532\nTrue      1837\nName: count, dtype: int64"
     },
     "execution_count": 5,
     "metadata": {},
     "output_type": "execute_result"
    }
   ],
   "source": [
    "# count rows where \"gpt_first_response_is_invalid\" is True\n",
    "df[\"gpt_first_response_is_invalid\"].value_counts()"
   ],
   "metadata": {
    "collapsed": false,
    "ExecuteTime": {
     "end_time": "2024-01-20T21:44:24.870950816Z",
     "start_time": "2024-01-20T21:44:24.799905279Z"
    }
   },
   "id": "ade3db7f05fc5a43",
   "execution_count": 5
  },
  {
   "cell_type": "code",
   "outputs": [
    {
     "data": {
      "text/plain": "gpt_second_response_is_invalid\nFalse    13602\nTrue       767\nName: count, dtype: int64"
     },
     "execution_count": 6,
     "metadata": {},
     "output_type": "execute_result"
    }
   ],
   "source": [
    "df[\"gpt_second_response_is_invalid\"].value_counts()"
   ],
   "metadata": {
    "collapsed": false,
    "ExecuteTime": {
     "end_time": "2024-01-20T21:44:24.871638110Z",
     "start_time": "2024-01-20T21:44:24.841479067Z"
    }
   },
   "id": "d86a664d1a5abf45",
   "execution_count": 6
  },
  {
   "cell_type": "code",
   "outputs": [],
   "source": [
    "# drop all rows where \"gpt_second_response_is_invalid\" is True\n",
    "df = df[df[\"gpt_second_response_is_invalid\"] == False]\n",
    "# drop label column\n",
    "df = df.drop(columns=[\"label\"])\n",
    "df.rename(columns={\"label2\": \"label\"}, inplace=True)"
   ],
   "metadata": {
    "collapsed": false,
    "ExecuteTime": {
     "end_time": "2024-01-20T21:44:24.872075471Z",
     "start_time": "2024-01-20T21:44:24.841630068Z"
    }
   },
   "id": "2831c81d7f332fa8",
   "execution_count": 7
  },
  {
   "cell_type": "code",
   "outputs": [
    {
     "name": "stdout",
     "output_type": "stream",
     "text": [
      "(9453, 11)\n"
     ]
    }
   ],
   "source": [
    "# only select rows where label2 is not \"unsure\" or \"irrelevant\"\n",
    "df = df[df[\"label\"] != \"unsure\"]\n",
    "df = df[df[\"label\"] != \"irrelevant\"]\n",
    "print(df.shape)"
   ],
   "metadata": {
    "collapsed": false,
    "ExecuteTime": {
     "end_time": "2024-01-20T21:44:24.872645106Z",
     "start_time": "2024-01-20T21:44:24.841710359Z"
    }
   },
   "id": "3df8766836d9c410",
   "execution_count": 8
  },
  {
   "cell_type": "markdown",
   "source": [],
   "metadata": {
    "collapsed": false
   },
   "id": "106cffe282218597"
  },
  {
   "cell_type": "code",
   "outputs": [
    {
     "data": {
      "text/plain": "                                                text               label  \\\n0   When the fashion trio threeASFOUR debuted its...  3d_printed_clothes   \n1  When the fashion trio threeASFOUR debuted its ...  3d_printed_clothes   \n2  The trio at its helm — Gabi Asfour and his des...  3d_printed_clothes   \n3  They wanted to do the opposite: stretch clothi...  3d_printed_clothes   \n4  They dreamed of 3D-printing textiles that were...  3d_printed_clothes   \n\n                    spans  article_id  sentence_id  \n0  [fashion, 3D, printed]           0            0  \n1  [fashion, 3D, printed]           0            1  \n2          [3D, textiles]           0            7  \n3          [3D, textiles]           0            8  \n4          [3D, textiles]           0            9  ",
      "text/html": "<div>\n<style scoped>\n    .dataframe tbody tr th:only-of-type {\n        vertical-align: middle;\n    }\n\n    .dataframe tbody tr th {\n        vertical-align: top;\n    }\n\n    .dataframe thead th {\n        text-align: right;\n    }\n</style>\n<table border=\"1\" class=\"dataframe\">\n  <thead>\n    <tr style=\"text-align: right;\">\n      <th></th>\n      <th>text</th>\n      <th>label</th>\n      <th>spans</th>\n      <th>article_id</th>\n      <th>sentence_id</th>\n    </tr>\n  </thead>\n  <tbody>\n    <tr>\n      <th>0</th>\n      <td>When the fashion trio threeASFOUR debuted its...</td>\n      <td>3d_printed_clothes</td>\n      <td>[fashion, 3D, printed]</td>\n      <td>0</td>\n      <td>0</td>\n    </tr>\n    <tr>\n      <th>1</th>\n      <td>When the fashion trio threeASFOUR debuted its ...</td>\n      <td>3d_printed_clothes</td>\n      <td>[fashion, 3D, printed]</td>\n      <td>0</td>\n      <td>1</td>\n    </tr>\n    <tr>\n      <th>2</th>\n      <td>The trio at its helm — Gabi Asfour and his des...</td>\n      <td>3d_printed_clothes</td>\n      <td>[3D, textiles]</td>\n      <td>0</td>\n      <td>7</td>\n    </tr>\n    <tr>\n      <th>3</th>\n      <td>They wanted to do the opposite: stretch clothi...</td>\n      <td>3d_printed_clothes</td>\n      <td>[3D, textiles]</td>\n      <td>0</td>\n      <td>8</td>\n    </tr>\n    <tr>\n      <th>4</th>\n      <td>They dreamed of 3D-printing textiles that were...</td>\n      <td>3d_printed_clothes</td>\n      <td>[3D, textiles]</td>\n      <td>0</td>\n      <td>9</td>\n    </tr>\n  </tbody>\n</table>\n</div>"
     },
     "execution_count": 9,
     "metadata": {},
     "output_type": "execute_result"
    }
   ],
   "source": [
    "# load old data\n",
    "old_data = load_json_data(\"../../training/datasets\")\n",
    "old_data.head()"
   ],
   "metadata": {
    "collapsed": false,
    "ExecuteTime": {
     "end_time": "2024-01-20T21:44:24.978274007Z",
     "start_time": "2024-01-20T21:44:24.841765372Z"
    }
   },
   "id": "d78f1ea76ab4805d",
   "execution_count": 9
  },
  {
   "cell_type": "code",
   "outputs": [
    {
     "data": {
      "text/plain": "                                                text                   label  \\\n0  Is there a case for a basic income guarantee –...  universal_basic_income   \n1  I outline a coherent adjustment framework to a...  universal_basic_income   \n2  Adopting a basic income guarantee in this cont...  universal_basic_income   \n3  Just Transition Framework\\nThe Just Transition...  universal_basic_income   \n4  ][Reference: (1996) ‘Sustainable development: ...  universal_basic_income   \n\n  spans  article_id  sentence_id  \n0    []        1520            0  \n1    []        1520            1  \n2    []        1520            2  \n3    []        1520            3  \n4    []        1520            4  ",
      "text/html": "<div>\n<style scoped>\n    .dataframe tbody tr th:only-of-type {\n        vertical-align: middle;\n    }\n\n    .dataframe tbody tr th {\n        vertical-align: top;\n    }\n\n    .dataframe thead th {\n        text-align: right;\n    }\n</style>\n<table border=\"1\" class=\"dataframe\">\n  <thead>\n    <tr style=\"text-align: right;\">\n      <th></th>\n      <th>text</th>\n      <th>label</th>\n      <th>spans</th>\n      <th>article_id</th>\n      <th>sentence_id</th>\n    </tr>\n  </thead>\n  <tbody>\n    <tr>\n      <th>0</th>\n      <td>Is there a case for a basic income guarantee –...</td>\n      <td>universal_basic_income</td>\n      <td>[]</td>\n      <td>1520</td>\n      <td>0</td>\n    </tr>\n    <tr>\n      <th>1</th>\n      <td>I outline a coherent adjustment framework to a...</td>\n      <td>universal_basic_income</td>\n      <td>[]</td>\n      <td>1520</td>\n      <td>1</td>\n    </tr>\n    <tr>\n      <th>2</th>\n      <td>Adopting a basic income guarantee in this cont...</td>\n      <td>universal_basic_income</td>\n      <td>[]</td>\n      <td>1520</td>\n      <td>2</td>\n    </tr>\n    <tr>\n      <th>3</th>\n      <td>Just Transition Framework\\nThe Just Transition...</td>\n      <td>universal_basic_income</td>\n      <td>[]</td>\n      <td>1520</td>\n      <td>3</td>\n    </tr>\n    <tr>\n      <th>4</th>\n      <td>][Reference: (1996) ‘Sustainable development: ...</td>\n      <td>universal_basic_income</td>\n      <td>[]</td>\n      <td>1520</td>\n      <td>4</td>\n    </tr>\n  </tbody>\n</table>\n</div>"
     },
     "execution_count": 10,
     "metadata": {},
     "output_type": "execute_result"
    }
   ],
   "source": [
    "df = df[old_data.columns]\n",
    "df.text = df.text.apply(lambda x: x[\"text\"])\n",
    "df.head()"
   ],
   "metadata": {
    "collapsed": false,
    "ExecuteTime": {
     "end_time": "2024-01-20T21:44:25.049881586Z",
     "start_time": "2024-01-20T21:44:24.981994357Z"
    }
   },
   "id": "a1b3d87247bf4d3e",
   "execution_count": 10
  },
  {
   "cell_type": "code",
   "outputs": [],
   "source": [
    "# make sure column names are the same\n",
    "column_map = {\n",
    "    # old -> new\n",
    "    \"3d_printed_clothes\": \"3d_printed_apparel\",\n",
    "    \"car_sharing\": \"car-sharing\",\n",
    "    \"e_health\": \"e-health\",\n",
    "    \"smart_food_management_kitchen_fridges_freezers\": \"smart_food_management/kitchen/fridges/freezers\",\n",
    "}\n",
    "old_data.label = old_data.label.apply(lambda x: column_map[x] if x in column_map else x)"
   ],
   "metadata": {
    "collapsed": false,
    "ExecuteTime": {
     "end_time": "2024-01-20T21:44:25.050489055Z",
     "start_time": "2024-01-20T21:44:25.025476498Z"
    }
   },
   "id": "c4ad6ee1144e29f1",
   "execution_count": 11
  },
  {
   "cell_type": "code",
   "outputs": [
    {
     "name": "stdout",
     "output_type": "stream",
     "text": [
      "(18869, 5)\n"
     ]
    }
   ],
   "source": [
    "# merge datasets\n",
    "df = pd.concat([df, old_data], ignore_index=True)\n",
    "print(df.shape)"
   ],
   "metadata": {
    "collapsed": false,
    "ExecuteTime": {
     "end_time": "2024-01-20T21:44:25.050888293Z",
     "start_time": "2024-01-20T21:44:25.025590690Z"
    }
   },
   "id": "4314807da9070bf4",
   "execution_count": 12
  },
  {
   "cell_type": "code",
   "outputs": [
    {
     "name": "stdout",
     "output_type": "stream",
     "text": [
      "(18788, 5)\n"
     ]
    }
   ],
   "source": [
    "# drop ay rows with duplicate texts\n",
    "df = df.drop_duplicates(subset=[\"text\"])\n",
    "print(df.shape)"
   ],
   "metadata": {
    "collapsed": false,
    "ExecuteTime": {
     "end_time": "2024-01-20T21:44:25.051255739Z",
     "start_time": "2024-01-20T21:44:25.025647876Z"
    }
   },
   "id": "3c6b7d76757d8701",
   "execution_count": 13
  },
  {
   "cell_type": "code",
   "outputs": [
    {
     "name": "stdout",
     "output_type": "stream",
     "text": [
      "67\n"
     ]
    }
   ],
   "source": [
    "# save data as parquet\n",
    "df.to_parquet(\"../../training/datasets/chat_gpt_annotated_data.parquet\")\n",
    "print(len(set(df.label)))"
   ],
   "metadata": {
    "collapsed": false,
    "ExecuteTime": {
     "end_time": "2024-01-20T21:44:25.151596432Z",
     "start_time": "2024-01-20T21:44:25.025691539Z"
    }
   },
   "id": "b07756d2426c4bff",
   "execution_count": 14
  }
 ],
 "metadata": {
  "kernelspec": {
   "display_name": "Python 3",
   "language": "python",
   "name": "python3"
  },
  "language_info": {
   "codemirror_mode": {
    "name": "ipython",
    "version": 2
   },
   "file_extension": ".py",
   "mimetype": "text/x-python",
   "name": "python",
   "nbconvert_exporter": "python",
   "pygments_lexer": "ipython2",
   "version": "2.7.6"
  }
 },
 "nbformat": 4,
 "nbformat_minor": 5
}
