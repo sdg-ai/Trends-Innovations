{
 "cells": [
  {
   "cell_type": "code",
   "execution_count": 1,
   "metadata": {
    "collapsed": true,
    "id": "8FrgAwpfGJVk",
    "colab": {
     "base_uri": "https://localhost:8080/"
    },
    "outputId": "1aa42658-9306-4186-d629-139756b77995",
    "executionInfo": {
     "status": "ok",
     "timestamp": 1685031908837,
     "user_tz": -120,
     "elapsed": 61169,
     "user": {
      "displayName": "Johannes Getzner",
      "userId": "13415175816557882310"
     }
    }
   },
   "outputs": [],
   "source": [
    "data_path = \"../data/annotated_data\"\n",
    "save_model_dir_name = \"best_model_albert\"\n",
    "# set to true if colab!\n",
    "colab = False\n",
    "train_model = False\n",
    "if colab:\n",
    "    data_path = '/content/drive/MyDrive/annotated_data'\n",
    "    !pip install transformers\n",
    "    !pip install evaluate\n",
    "    !pip install seaborn\n",
    "    !pip install accelerate\n",
    "    !pip install Cython\n",
    "    try:\n",
    "        from google.colab import drive\n",
    "        drive.mount('/content/drive', force_remount=True)\n",
    "    except:\n",
    "        print(\"probably not in colab\")"
   ]
  },
  {
   "cell_type": "markdown",
   "source": [
    "# Imports"
   ],
   "metadata": {
    "collapsed": false,
    "id": "BA655CedGJVl"
   }
  },
  {
   "cell_type": "code",
   "execution_count": 2,
   "outputs": [],
   "source": [
    "import os\n",
    "import ast\n",
    "import json\n",
    "import torch\n",
    "torch.manual_seed(0)\n",
    "import random\n",
    "random.seed(0)\n",
    "import itertools\n",
    "import numpy as np\n",
    "np.random.seed(0)\n",
    "import pandas as pd\n",
    "import seaborn as sns\n",
    "import matplotlib.pyplot as plt\n",
    "sns.set_theme()\n",
    "from torch.utils.data import Dataset, DataLoader\n",
    "from sklearn.metrics import confusion_matrix\n",
    "from transformers import AutoTokenizer, AlbertForSequenceClassification,get_scheduler\n",
    "from sklearn import preprocessing\n",
    "from tqdm.auto import tqdm\n",
    "from experiment_utils import EarlyStopper\n",
    "from sklearn.metrics import accuracy_score, classification_report"
   ],
   "metadata": {
    "id": "jDOkF8p5GJVs"
   }
  },
  {
   "cell_type": "markdown",
   "source": [
    "# Load Data"
   ],
   "metadata": {
    "collapsed": false,
    "id": "iDiY_DeTGJVt"
   }
  },
  {
   "cell_type": "code",
   "execution_count": 3,
   "outputs": [
    {
     "ename": "FileNotFoundError",
     "evalue": "[Errno 2] No such file or directory: '../data/annotated_data'",
     "output_type": "error",
     "traceback": [
      "\u001B[0;31m---------------------------------------------------------------------------\u001B[0m",
      "\u001B[0;31mFileNotFoundError\u001B[0m                         Traceback (most recent call last)",
      "Cell \u001B[0;32mIn[3], line 1\u001B[0m\n\u001B[0;32m----> 1\u001B[0m files \u001B[38;5;241m=\u001B[39m [f \u001B[38;5;28;01mfor\u001B[39;00m f \u001B[38;5;129;01min\u001B[39;00m \u001B[43mos\u001B[49m\u001B[38;5;241;43m.\u001B[39;49m\u001B[43mlistdir\u001B[49m\u001B[43m(\u001B[49m\u001B[43mdata_path\u001B[49m\u001B[43m)\u001B[49m \u001B[38;5;28;01mif\u001B[39;00m f\u001B[38;5;241m.\u001B[39mendswith(\u001B[38;5;124m'\u001B[39m\u001B[38;5;124mjsonl\u001B[39m\u001B[38;5;124m'\u001B[39m)]\n\u001B[1;32m      2\u001B[0m rows \u001B[38;5;241m=\u001B[39m []\n",
      "\u001B[0;31mFileNotFoundError\u001B[0m: [Errno 2] No such file or directory: '../data/annotated_data'"
     ]
    }
   ],
   "source": [
    "files = [f for f in os.listdir(data_path) if f.endswith('jsonl')]\n",
    "rows = []"
   ],
   "metadata": {
    "id": "vEkX2Lb1GJVu"
   }
  },
  {
   "cell_type": "code",
   "execution_count": null,
   "outputs": [],
   "source": [
    "for f in files:\n",
    "    with open(f'{data_path}/{f}', 'r') as json_file:\n",
    "        json_list = list(json_file)\n",
    "    for json_str in json_list:\n",
    "        result = json.loads(json_str)\n",
    "        label = result[\"label\"]\n",
    "        text = result[\"text\"]\n",
    "        new_spans = []\n",
    "        if result[\"spans\"] and len(result[\"spans\"]) != 0:\n",
    "            try:\n",
    "                new_spans = [s[\"text\"] for s in result[\"spans\"]]\n",
    "            except:\n",
    "                x = ast.literal_eval(result[\"spans\"])\n",
    "                new_spans = [s[\"text\"] for s in x]\n",
    "        new_row = {\n",
    "            \"text\":text,\n",
    "            \"label\":label,\n",
    "            \"spans\":new_spans\n",
    "        }\n",
    "        rows.append(new_row)\n",
    "    print(f\"Loaded: {f}\")\n",
    "df = pd.DataFrame(rows)"
   ],
   "metadata": {
    "id": "8B1eOK5uGJVu",
    "colab": {
     "base_uri": "https://localhost:8080/"
    },
    "executionInfo": {
     "status": "ok",
     "timestamp": 1685031925891,
     "user_tz": -120,
     "elapsed": 3208,
     "user": {
      "displayName": "Johannes Getzner",
      "userId": "13415175816557882310"
     }
    },
    "outputId": "9714bf5c-4987-4287-f365-b894c620448d"
   }
  },
  {
   "cell_type": "markdown",
   "source": [
    "## Inspecting the data"
   ],
   "metadata": {
    "collapsed": false,
    "id": "8px1Kz07sq0C"
   }
  },
  {
   "cell_type": "code",
   "execution_count": null,
   "outputs": [],
   "source": [
    "plt.figure(figsize=(10,8))\n",
    "\n",
    "abs_values = df['label'].value_counts(ascending=False)\n",
    "g = sns.countplot(data=df, y=\"label\", order=abs_values.index)\n",
    "rel_values = df['label'].value_counts(ascending=False, normalize=True).values * 100\n",
    "bar_labels = [f'{p[0]} ({p[1]:.0f}%)' for p in zip(abs_values.values, rel_values)]\n",
    "g.bar_label(container=g.containers[0], labels=bar_labels)\n",
    "g.set_title(\"number of examples per class\")"
   ],
   "metadata": {
    "id": "2HPgCzOssq0C",
    "colab": {
     "base_uri": "https://localhost:8080/",
     "height": 505
    },
    "executionInfo": {
     "status": "ok",
     "timestamp": 1685031927759,
     "user_tz": -120,
     "elapsed": 1580,
     "user": {
      "displayName": "Johannes Getzner",
      "userId": "13415175816557882310"
     }
    },
    "outputId": "ecd7ca82-f11b-4bba-9e59-a34ea864b28d"
   }
  },
  {
   "cell_type": "code",
   "execution_count": null,
   "outputs": [],
   "source": [
    "df[\"text_len\"] = df[[\"text\"]].apply(lambda x:len(x.item()), axis=1)\n",
    "plt.figure(figsize=(10,8))\n",
    "g = sns.boxplot(data=df, x=\"text_len\", y=\"label\")\n",
    "g.set_title(\"text len per class\")\n",
    "print(\"text length statistics\")\n",
    "df.groupby([\"label\"])[\"text_len\"].agg([\"mean\",\"median\",\"min\",\"max\"])"
   ],
   "metadata": {
    "id": "LHNgUKlNsq0D",
    "colab": {
     "base_uri": "https://localhost:8080/",
     "height": 1000
    },
    "executionInfo": {
     "status": "ok",
     "timestamp": 1685031929361,
     "user_tz": -120,
     "elapsed": 1613,
     "user": {
      "displayName": "Johannes Getzner",
      "userId": "13415175816557882310"
     }
    },
    "outputId": "053e478f-801c-45d6-a4ea-fc82c14f73a9"
   }
  },
  {
   "cell_type": "markdown",
   "source": [
    "# Data Preparation\n",
    "## Encode Labels"
   ],
   "metadata": {
    "collapsed": false,
    "id": "16oSqsVzGJVv"
   }
  },
  {
   "cell_type": "code",
   "execution_count": null,
   "outputs": [],
   "source": [
    "le = preprocessing.LabelEncoder()\n",
    "df[\"label_encoded\"] = le.fit_transform(df[\"label\"])"
   ],
   "metadata": {
    "id": "BoZzpzqVGJVv"
   }
  },
  {
   "cell_type": "markdown",
   "source": [
    "## Train, Valdiation and Test Split"
   ],
   "metadata": {
    "collapsed": false,
    "id": "PE1LX48aGJVw"
   }
  },
  {
   "cell_type": "code",
   "execution_count": null,
   "outputs": [],
   "source": [
    "# 70, 20, 10 split\n",
    "train_df, val_df, test_df = np.split(df.sample(frac=1), [int(.7*len(df)), int(.9*len(df))])\n",
    "train_df.reset_index(inplace=True)\n",
    "val_df.reset_index(inplace=True)\n",
    "test_df.reset_index(inplace=True)"
   ],
   "metadata": {
    "id": "Z4QPu0kBGJVx"
   }
  },
  {
   "cell_type": "code",
   "execution_count": null,
   "outputs": [],
   "source": [
    "# collect spans from the training data-set\n",
    "new_spans = set(itertools.chain.from_iterable(train_df.spans.tolist()))"
   ],
   "metadata": {
    "id": "l36ChYDTGJVy"
   }
  },
  {
   "cell_type": "markdown",
   "source": [],
   "metadata": {
    "collapsed": false,
    "id": "BjBMQdj0GJVz"
   }
  },
  {
   "cell_type": "markdown",
   "source": [
    "# Create Datasets and Tokenize"
   ],
   "metadata": {
    "collapsed": false,
    "id": "Ahz5GrH5GJVz"
   }
  },
  {
   "cell_type": "code",
   "execution_count": null,
   "outputs": [],
   "source": [
    "# add new spans to the tokenizer\n",
    "tokenizer = AutoTokenizer.from_pretrained(\"albert-base-v2\", do_lower_case=False)\n",
    "# extend tokenizer with domain spans\n",
    "new_tokens = set(new_spans) - set(tokenizer.vocab.keys())\n",
    "tokenizer.add_tokens(list(new_tokens))"
   ],
   "metadata": {
    "id": "zc3D03SMGJV0",
    "colab": {
     "base_uri": "https://localhost:8080/",
     "height": 186,
     "referenced_widgets": [
      "c54c6ca26b964abab69c9dacbba6cff9",
      "ae2f2bf7077f4680ae2e109b75407764",
      "34e156e4ccd6452ca35acd38d29b1b3e",
      "7affb9dd8d25481798a264e4e774ed7c",
      "df85c4e991a548a580b5e99d5f4ba4d7",
      "e3cbe98eebcf41d580c88dd4081bf979",
      "4cd3fe9ba44441a7a0106fe9fd28e150",
      "dae601048ebb405a99804243912a8772",
      "76e985d34a8e47b0ad2eab9ed07b0528",
      "19011f4dc29245cb857e13027235a34e",
      "0c25009ef8c340c79919574bc67b5d6f",
      "6c70141cfcde4e52b0148e6fffa2c899",
      "f3190fc2c53d424a88f8ba774a2fa4e6",
      "86836a856508418ab32a6189cfe9fbb1",
      "c745066e8ee4440496f374017654a5b6",
      "6280dd1a75af44cdb2bbd2327ce8d4c1",
      "82b8fab88160400781d75c88f80227ee",
      "56b969641c244bb9abcc2e70bc0632b6",
      "d99922cc63a84c6f8ecd2f834a2fc363",
      "ed45a1cce1964870a135b632fb36844a",
      "4e425369bd914205bcf8f1e4c9502e4b",
      "03aefc18aa81472a8cb2d924bf717797",
      "f7d885758a864c2aa58f427cf7f5eb1a",
      "cf8d2bd7e9ab4a99b5dcadefece03116",
      "952eb429d77b4a15aa467e92842cafc4",
      "376179c0b1a04f2e9d82a6c87fc751c3",
      "23c2618f456344e9a2d289d00a0e6f5d",
      "b4d9c5f28a25447db7e077c8b39e8a42",
      "a79be23f68c44a20b12b09401ad4e064",
      "a58dbfd4efb04c2a8945e0322be3231e",
      "9c95b505cffa4133a58536a676505d08",
      "bf454b031e7f4f56bc6ae7cbbc7acbb0",
      "76bbd43ce8ba4e798f271c446d7ce6e6"
     ]
    },
    "executionInfo": {
     "status": "ok",
     "timestamp": 1685031929957,
     "user_tz": -120,
     "elapsed": 600,
     "user": {
      "displayName": "Johannes Getzner",
      "userId": "13415175816557882310"
     }
    },
    "outputId": "268b3ddc-192c-456e-e9de-4b188e4d52d1"
   }
  },
  {
   "cell_type": "code",
   "execution_count": null,
   "outputs": [],
   "source": [
    "# define PyTorch dataset\n",
    "class TAndIDataSet(Dataset):\n",
    "    def __init__(self, text_column, encoded_labels):\n",
    "        self.texts = text_column\n",
    "        self.encodings = tokenizer(text_column.tolist(), truncation=True, padding=True, max_length=512)\n",
    "        self.labels = encoded_labels\n",
    "\n",
    "    def __getitem__(self, idx):\n",
    "        item = {k: torch.tensor(v[idx]) for k, v in self.encodings.items()}\n",
    "        item[\"labels\"] = torch.tensor([self.labels[idx]])\n",
    "        return item, self.texts[idx]\n",
    "\n",
    "    def __len__(self):\n",
    "        return len(self.labels)"
   ],
   "metadata": {
    "id": "LE3uPVn_sq0H"
   }
  },
  {
   "cell_type": "code",
   "execution_count": null,
   "outputs": [],
   "source": [
    "# create datasets\n",
    "train_dataset = TAndIDataSet(train_df.text, train_df.label_encoded)\n",
    "val_dataset = TAndIDataSet(val_df.text, val_df.label_encoded)\n",
    "test_dataset = TAndIDataSet(test_df.text, test_df.label_encoded)\n",
    "# create dataloaders\n",
    "train_dataloader = DataLoader(train_dataset, batch_size=16)\n",
    "val_dataloader = DataLoader(val_dataset, batch_size=32)\n",
    "test_dataloader =  DataLoader(test_dataset, batch_size=4)"
   ],
   "metadata": {
    "id": "Nxt2S_nWGJV0"
   }
  },
  {
   "cell_type": "markdown",
   "source": [
    "# Finetuning\n",
    "## Definitions"
   ],
   "metadata": {
    "collapsed": false,
    "id": "RQ_Gg_orGJV0"
   }
  },
  {
   "cell_type": "code",
   "execution_count": null,
   "outputs": [],
   "source": [
    "if train_model:\n",
    "    # model definition\n",
    "    model = AlbertForSequenceClassification.from_pretrained(\n",
    "        \"albert-base-v2\",\n",
    "        num_labels=len(le.classes_)\n",
    "    ).to(\"cuda\")\n",
    "    # adjust embeddings size for new vocabulary length\n",
    "    model.resize_token_embeddings(len(tokenizer))\n",
    "else:\n",
    "    tokenizer = AutoTokenizer.from_pretrained(f\"./model_checkpoints/{save_model_dir_name}\", local_files_only=True)\n",
    "    model = AlbertForSequenceClassification.from_pretrained(f\"./model_checkpoints/{save_model_dir_name}\", local_files_only=True).to(\"cuda\")"
   ],
   "metadata": {
    "id": "5NdIbjp2GJV1",
    "colab": {
     "base_uri": "https://localhost:8080/",
     "height": 156,
     "referenced_widgets": [
      "048c7661824a42a3b150086fc5fb24b3",
      "a39964ac21154d368ee74b263fe9ee91",
      "6db09d0f94c04d26beef84c48973e92e",
      "7fbfeca2acd04f68aa321fe0e6df6bea",
      "9314225908e74008acf4d6c86edf4b98",
      "ab973a92d17f4aac8c9c200b08df1392",
      "e58da1b828d2496f9c4a52ad1c9377a6",
      "afcf13961e434487b48126e379443aaf",
      "ba49b02d383542e782b785bdfdd184d2",
      "d4f488e425554b64b463207124ff21b2",
      "93de24a3d5b548e1bc973be7e6e40e3a"
     ]
    },
    "executionInfo": {
     "status": "ok",
     "timestamp": 1685031940977,
     "user_tz": -120,
     "elapsed": 2951,
     "user": {
      "displayName": "Johannes Getzner",
      "userId": "13415175816557882310"
     }
    },
    "outputId": "15d813e4-ccd4-4f8e-f733-52f006a111cd"
   }
  },
  {
   "cell_type": "code",
   "execution_count": null,
   "outputs": [],
   "source": [
    "# optimizer\n",
    "optimizer = torch.optim.AdamW(model.parameters(), lr=5e-5)\n",
    "# epochs\n",
    "num_epochs = 15\n",
    "# learning rate scheduler\n",
    "lr_scheduler = get_scheduler(\n",
    "    name=\"linear\",\n",
    "    optimizer=optimizer,\n",
    "    num_warmup_steps=0,\n",
    "    num_training_steps=num_epochs * len(train_dataloader)\n",
    ")"
   ],
   "metadata": {
    "id": "h5kr6GobGJV2"
   }
  },
  {
   "cell_type": "markdown",
   "source": [
    "## Training Loop"
   ],
   "metadata": {
    "collapsed": false,
    "id": "Fxrutrf7GJV2"
   }
  },
  {
   "cell_type": "code",
   "execution_count": null,
   "outputs": [],
   "source": [
    "if train_model:\n",
    "    training_stats = []\n",
    "    progress_bar = tqdm(range(num_epochs*(len(train_dataloader)+len(val_dataloader))))\n",
    "    early_stopper = EarlyStopper(patience=5)\n",
    "    best_val_loss = np.Inf\n",
    "    for epoch in range(num_epochs):\n",
    "        print(f\"\\nRunning Epoch {epoch+1}/{num_epochs}...\")\n",
    "        epoch_train_losses = []\n",
    "        epoch_val_losses = []\n",
    "        epoch_train_correct = 0\n",
    "        epoch_val_correct = 0\n",
    "        # training loop\n",
    "        model.train()\n",
    "        for batch, _ in train_dataloader:\n",
    "            # move batch to gpu\n",
    "            batch = {k: v.to(\"cuda\") for k, v in batch.items()}\n",
    "            # forward pass\n",
    "            output = model(**batch)\n",
    "            predictions = torch.argmax(output.logits, dim=-1)\n",
    "            epoch_train_correct += (predictions == batch[\"labels\"].flatten()).long().sum()\n",
    "            # compute loss & backprop\n",
    "            loss = output.loss\n",
    "            loss.backward()\n",
    "            optimizer.step()\n",
    "            lr_scheduler.step()\n",
    "            # reset optimizer\n",
    "            optimizer.zero_grad()\n",
    "            # save batch_loss\n",
    "            epoch_train_losses.append(loss.item())\n",
    "            progress_bar.update(1)\n",
    "        # validation loop\n",
    "        model.eval()\n",
    "        for batch, _ in val_dataloader:\n",
    "            batch = {k: v.to(\"cuda\") for k, v in batch.items()}\n",
    "            with torch.no_grad():\n",
    "                output = model(**batch)\n",
    "                predictions = torch.argmax(output.logits, dim=-1)\n",
    "                epoch_val_correct += (predictions == batch[\"labels\"].flatten()).long().sum()\n",
    "                epoch_val_losses.append(output.loss.item())\n",
    "            progress_bar.update(1)\n",
    "        # save epoch metrics\n",
    "        mean_epoch_val_loss = np.mean(epoch_val_losses)\n",
    "        epoch_stats = {\n",
    "            \"epoch\":epoch,\n",
    "            \"train_loss\":np.mean(epoch_train_losses),\n",
    "            \"val_loss\":mean_epoch_val_loss,\n",
    "            \"train_accuracy\":epoch_train_correct.item()/len(train_dataset),\n",
    "            \"val_accuracy\":epoch_val_correct.item()/len(val_dataset)\n",
    "        }\n",
    "        print(epoch_stats)\n",
    "        training_stats.append(epoch_stats)\n",
    "        # save best model\n",
    "        if mean_epoch_val_loss < best_val_loss:\n",
    "            model_path = f\"./{save_model_dir_name}\"\n",
    "            model.save_pretrained(model_path)\n",
    "            tokenizer.save_pretrained(model_path)\n",
    "            best_val_loss = mean_epoch_val_loss\n",
    "\n",
    "        if early_stopper.early_stop(mean_epoch_val_loss):\n",
    "            print(\"Stopping early\")\n",
    "            break\n",
    "\n",
    "    # if colab make sure to save best model to google drive\n",
    "    training_stats = pd.DataFrame(training_stats)\n",
    "    if colab:\n",
    "        !cp -r $save_model_dir_name /content/drive/MyDrive\n",
    "else:\n",
    "    print(\"training disabled\")"
   ],
   "metadata": {
    "id": "vFxVMnneGJV2",
    "colab": {
     "base_uri": "https://localhost:8080/",
     "height": 831,
     "referenced_widgets": [
      "b95e27e5f9574f449802f690312c7800",
      "ff1367f114474844ab46ac1a02c49535",
      "ace299057c854f8b987f4a389a7396d2",
      "85d0e1383b7e40ff98f48a4dd34237bf",
      "636cc602857e40419dd9e5d2cc931a32",
      "5ea1e1446b1640258e8999cfc200a1c8",
      "c0a33345de4e49a4997e68f1125310c9",
      "c2b23ec1df6141d8b563c41b514c0bcb",
      "05e8780ee12e4abd9c9f88a09c24cc83",
      "e7b4784e2f914b999ec5310e2168636a",
      "4261a3966d0448e890a589b37e1a1e2f"
     ]
    },
    "outputId": "96e17117-1035-42f7-8d41-68f5712cc7a2",
    "executionInfo": {
     "status": "ok",
     "timestamp": 1685044418419,
     "user_tz": -120,
     "elapsed": 7556892,
     "user": {
      "displayName": "Johannes Getzner",
      "userId": "13415175816557882310"
     }
    }
   }
  },
  {
   "cell_type": "code",
   "execution_count": null,
   "outputs": [],
   "source": [
    "if train_model:\n",
    "    plt.figure(figsize=(8,8))\n",
    "    sns.lineplot(\n",
    "        data=training_stats[[\"epoch\",\"train_loss\",\"val_loss\"]].melt(id_vars=[\"epoch\"]),\n",
    "        x=\"epoch\",\n",
    "        y=\"value\",\n",
    "        hue=\"variable\"\n",
    "    )"
   ],
   "metadata": {
    "id": "930x3v6rGJV2",
    "colab": {
     "base_uri": "https://localhost:8080/",
     "height": 704
    },
    "executionInfo": {
     "status": "ok",
     "timestamp": 1685044418937,
     "user_tz": -120,
     "elapsed": 522,
     "user": {
      "displayName": "Johannes Getzner",
      "userId": "13415175816557882310"
     }
    },
    "outputId": "f63cf7e9-6033-4286-d36f-34e43eed056e"
   }
  },
  {
   "cell_type": "code",
   "execution_count": null,
   "outputs": [],
   "source": [
    "if train_model:\n",
    "    plt.figure(figsize=(8,8))\n",
    "    sns.lineplot(\n",
    "        data=training_stats[[\"epoch\",\"train_accuracy\",\"val_accuracy\"]].melt(id_vars=[\"epoch\"]),\n",
    "        x=\"epoch\",\n",
    "        y=\"value\",\n",
    "        hue=\"variable\"\n",
    "    )"
   ],
   "metadata": {
    "id": "QZY8QMo4GJV2",
    "colab": {
     "base_uri": "https://localhost:8080/",
     "height": 704
    },
    "executionInfo": {
     "status": "ok",
     "timestamp": 1685044419450,
     "user_tz": -120,
     "elapsed": 514,
     "user": {
      "displayName": "Johannes Getzner",
      "userId": "13415175816557882310"
     }
    },
    "outputId": "c995e8d3-9e91-474a-8b18-e8983b93cd58"
   }
  },
  {
   "cell_type": "markdown",
   "source": [
    "# Testing"
   ],
   "metadata": {
    "collapsed": false,
    "id": "x8a5E3u9GJV3"
   }
  },
  {
   "cell_type": "code",
   "execution_count": null,
   "outputs": [],
   "source": [
    "progress_bar = tqdm(range(len(test_dataloader)))\n",
    "test_correct = 0\n",
    "test_predictions = []\n",
    "model.eval()\n",
    "softmax = torch.nn.Softmax(dim=len(le.classes_))\n",
    "for batch, texts in test_dataloader:\n",
    "    batch = {k: v.to(\"cuda\") for k, v in batch.items()}\n",
    "    with torch.no_grad():\n",
    "        output = model(**batch, output_attentions=True, output_hidden_states=True)\n",
    "        local_predictions = torch.argmax(output.logits, dim=-1)\n",
    "        top_k_predictions = torch.topk(output.logits, k=3)\n",
    "        test_correct += (local_predictions == batch[\"labels\"].flatten()).long().sum()\n",
    "        for idx, pred in enumerate(local_predictions.tolist()):\n",
    "            test_predictions.append({\n",
    "                \"y_hat_enc\":pred,\n",
    "                \"y_enc\":batch[\"labels\"].flatten().tolist()[idx],\n",
    "                \"text\":texts[idx],\n",
    "                \"top_k\":top_k_predictions.indices[idx].tolist(),\n",
    "                \"top_k_logits\": top_k_predictions.values[idx].tolist(),\n",
    "                \"in_top_k\":batch[\"labels\"].flatten().tolist()[idx] in top_k_predictions.indices[idx].tolist()\n",
    "            })\n",
    "    progress_bar.update(1)\n",
    "print(f\"Test Accuracy: {test_correct/(len(test_dataloader)*test_dataloader.batch_size)}\")\n",
    "test_predictions = pd.DataFrame(test_predictions)\n",
    "test_predictions[\"y\"] = le.inverse_transform(test_predictions[\"y_enc\"])\n",
    "test_predictions[\"y_hat\"] = le.inverse_transform(test_predictions[\"y_hat_enc\"])\n",
    "print(f\"Test top-k Accuracy: {len(test_predictions.loc[test_predictions.in_top_k])/(len(test_dataloader)*test_dataloader.batch_size)}\")"
   ],
   "metadata": {
    "id": "UmUo2SAqGJV3",
    "colab": {
     "base_uri": "https://localhost:8080/",
     "height": 84,
     "referenced_widgets": [
      "2de4c37c1b834a1d97a494be0eeeabbf",
      "1e5ce3d2689d4ab18197eeecbfc63e0d",
      "edd2b7312d474725bf8d6271f6935d34",
      "af6ac3e29c6547be86e3bc73579d5b27",
      "754ba05eeb0442b5bdb8fcb7f39907dc",
      "65bd019de0e94bbeaeeaea55d3a56743",
      "8e0ce0ce0559449996fd6edf3097d4f2",
      "540a9186d0a34c40a2c177f68a799795",
      "25c48eeeae6b46cba5e69a25a08f79f6",
      "e815a280ab014814be7c76319f901b52",
      "898154b1898548bfbc1dcabc19dec971"
     ]
    },
    "executionInfo": {
     "status": "ok",
     "timestamp": 1685044452822,
     "user_tz": -120,
     "elapsed": 33375,
     "user": {
      "displayName": "Johannes Getzner",
      "userId": "13415175816557882310"
     }
    },
    "outputId": "968c2761-1c98-4556-d4cd-11367cf9c34f"
   }
  },
  {
   "cell_type": "markdown",
   "source": [
    "## Wrong classifications"
   ],
   "metadata": {
    "collapsed": false,
    "id": "IlT25V96sq0K"
   }
  },
  {
   "cell_type": "code",
   "execution_count": null,
   "outputs": [],
   "source": [
    "test_predictions.loc[test_predictions.y_enc != test_predictions.y_hat_enc].head(n=1000)"
   ],
   "metadata": {
    "id": "rY8AjIMTsq0K",
    "colab": {
     "base_uri": "https://localhost:8080/",
     "height": 1000
    },
    "executionInfo": {
     "status": "ok",
     "timestamp": 1685044452825,
     "user_tz": -120,
     "elapsed": 15,
     "user": {
      "displayName": "Johannes Getzner",
      "userId": "13415175816557882310"
     }
    },
    "outputId": "84798b5f-1678-4e8d-adb5-f933f8287dec"
   }
  },
  {
   "cell_type": "code",
   "execution_count": null,
   "outputs": [],
   "source": [
    "print(\"num. miss-classifications per class\")\n",
    "test_predictions.loc[test_predictions.y_enc != test_predictions.y_hat_enc].groupby([\"y\"])[\"y\"].count()"
   ],
   "metadata": {
    "id": "e1RIfwWzsq0K",
    "colab": {
     "base_uri": "https://localhost:8080/"
    },
    "executionInfo": {
     "status": "ok",
     "timestamp": 1685044452826,
     "user_tz": -120,
     "elapsed": 12,
     "user": {
      "displayName": "Johannes Getzner",
      "userId": "13415175816557882310"
     }
    },
    "outputId": "66f0ceae-dce6-46be-82bd-24b20e0e4ccc"
   }
  },
  {
   "cell_type": "markdown",
   "source": [
    "### Confusion Matrix"
   ],
   "metadata": {
    "collapsed": false,
    "id": "kFHp2mLkaPEj"
   }
  },
  {
   "cell_type": "code",
   "execution_count": null,
   "outputs": [],
   "source": [
    "# axis_ticks = le.inverse_transform(list(range(0,17)))\n",
    "le_name_mapping = dict(zip(le.classes_, le.transform(le.classes_)))\n",
    "for key,value in le_name_mapping.items():\n",
    "    print(f\"{value} : {key}\")\n",
    "cm = confusion_matrix(test_predictions[\"y_enc\"],test_predictions[\"y_hat_enc\"])\n",
    "plt.figure(figsize=(8,7))\n",
    "g = sns.heatmap(cm, annot=True, fmt='g', square = True, cmap = 'Blues_r')\n",
    "g.set_ylabel(\"y\")\n",
    "g.set_xlabel(\"y_hat\")\n",
    "\n",
    "print(classification_report(test_predictions[\"y_enc\"],test_predictions[\"y_hat_enc\"], target_names=le.classes_))\n",
    "print(\"Accuracy score: \", accuracy_score(test_predictions[\"y_enc\"],test_predictions[\"y_hat_enc\"]))\n",
    "per_class_accuracy = cm.diagonal()/cm.sum(axis=1)\n",
    "print(\"per class accuracy:\", per_class_accuracy)"
   ],
   "metadata": {
    "id": "GVqic7oyGJV3",
    "colab": {
     "base_uri": "https://localhost:8080/",
     "height": 941
    },
    "executionInfo": {
     "status": "ok",
     "timestamp": 1685044454538,
     "user_tz": -120,
     "elapsed": 1720,
     "user": {
      "displayName": "Johannes Getzner",
      "userId": "13415175816557882310"
     }
    },
    "outputId": "be52d5ce-b5c2-4284-a4af-6de43349324b"
   }
  },
  {
   "cell_type": "markdown",
   "source": [
    "### Detailed inspection of miss-classifications"
   ],
   "metadata": {
    "collapsed": false,
    "id": "1vc7ZbrwaPEk"
   }
  },
  {
   "cell_type": "code",
   "execution_count": null,
   "outputs": [],
   "source": [
    "# class of interest\n",
    "coi = \"electric_car\"\n",
    "coi_miss = test_predictions.loc[(test_predictions.y==coi) & (test_predictions.y_hat != coi)]\n",
    "print(f\"Total num. miss: {len(coi_miss)}, non-top-k miss: {len(coi_miss.loc[~coi_miss.in_top_k])}\")\n",
    "coi_miss_enhanced = []\n",
    "for idx, row in coi_miss.iterrows():\n",
    "    for tk in range(len(row.top_k)):\n",
    "        new_row = {\n",
    "            \"score\": row.top_k_logits[tk],\n",
    "            \"y_hat_enc\": row.top_k[tk],\n",
    "            \"y_hat\": le.inverse_transform([row.top_k[tk]])[0],\n",
    "            \"rank\":str(tk)\n",
    "        }\n",
    "        coi_miss_enhanced.append(new_row)\n",
    "coi_miss_enhanced = pd.DataFrame(coi_miss_enhanced)\n",
    "coi_miss"
   ],
   "metadata": {
    "id": "rSxYt0M2aPEk",
    "colab": {
     "base_uri": "https://localhost:8080/",
     "height": 129
    },
    "executionInfo": {
     "status": "ok",
     "timestamp": 1685044454540,
     "user_tz": -120,
     "elapsed": 14,
     "user": {
      "displayName": "Johannes Getzner",
      "userId": "13415175816557882310"
     }
    },
    "outputId": "6bcec7a0-bbf0-444f-fe85-fea5cb6a7ecf"
   }
  },
  {
   "cell_type": "code",
   "execution_count": null,
   "outputs": [],
   "source": [
    "print(f\"rank 0 should be '{coi}'\")\n",
    "coi_miss_enhanced_agg = coi_miss_enhanced.groupby(['rank',\"y_hat\",\"y_hat_enc\"]).size().reset_index(name=\"counts\")\n",
    "g = sns.barplot(data=coi_miss_enhanced_agg, y=\"rank\", x=\"counts\", hue=\"y_hat\")\n",
    "sns.move_legend(g, \"upper left\", bbox_to_anchor=(1, 1))"
   ],
   "metadata": {
    "id": "oDsb1lB2aPEk",
    "colab": {
     "base_uri": "https://localhost:8080/",
     "height": 475
    },
    "executionInfo": {
     "status": "ok",
     "timestamp": 1685044454954,
     "user_tz": -120,
     "elapsed": 420,
     "user": {
      "displayName": "Johannes Getzner",
      "userId": "13415175816557882310"
     }
    },
    "outputId": "eba492fe-13de-44ea-d851-1235dc3af53b"
   }
  },
  {
   "cell_type": "markdown",
   "source": [
    "#### Inspecting text of non top-k correct classifications"
   ],
   "metadata": {
    "collapsed": false,
    "id": "7FHD64j0sq0L"
   }
  },
  {
   "cell_type": "code",
   "execution_count": null,
   "outputs": [],
   "source": [
    "non_top_k = test_predictions.loc[~test_predictions.in_top_k]\n",
    "#axis_ticks = le.inverse_transform(list(set(list(non_top_k.y_hat_enc.unique()) + list(non_top_k.y_enc.unique()))))\n",
    "cm = confusion_matrix(non_top_k[\"y_enc\"],non_top_k[\"y_hat_enc\"])\n",
    "for key,value in le_name_mapping.items():\n",
    "    print(f\"{value} : {key}\")\n",
    "plt.figure(figsize=(8,7))\n",
    "g = sns.heatmap(cm, annot=True, fmt='g', square = True, cmap = 'Blues_r')\n",
    "g.set_ylabel(\"y\")\n",
    "g.set_xlabel(\"y_hat\")\n",
    "print(f\"Num of non-top-k predictions: {len(non_top_k)}\")"
   ],
   "metadata": {
    "id": "nKd8G4zDsq0L",
    "colab": {
     "base_uri": "https://localhost:8080/",
     "height": 947
    },
    "executionInfo": {
     "status": "ok",
     "timestamp": 1685044456007,
     "user_tz": -120,
     "elapsed": 1054,
     "user": {
      "displayName": "Johannes Getzner",
      "userId": "13415175816557882310"
     }
    },
    "outputId": "4879e654-355b-47c5-8eee-9114b33eb697"
   }
  },
  {
   "cell_type": "code",
   "execution_count": null,
   "outputs": [],
   "source": [
    "# subselect worst class\n",
    "worst_class = \"drone\"\n",
    "for idx, row in non_top_k.loc[non_top_k.y == worst_class].iterrows():\n",
    "    print(f\"[{idx}]\")\n",
    "    print(f\"class: {row.y}, predicted: {row.y_hat}\")\n",
    "    print(row.text)\n",
    "    print(\"--------------\")"
   ],
   "metadata": {
    "collapsed": false
   }
  }
 ],
 "metadata": {
  "kernelspec": {
   "display_name": "Python 3",
   "language": "python",
   "name": "python3"
  },
  "language_info": {
   "codemirror_mode": {
    "name": "ipython",
    "version": 2
   },
   "file_extension": ".py",
   "mimetype": "text/x-python",
   "name": "python",
   "nbconvert_exporter": "python",
   "pygments_lexer": "ipython2",
   "version": "2.7.6"
  },
  "colab": {
   "provenance": [],
   "gpuType": "T4"
  },
  "accelerator": "GPU",
  "gpuClass": "standard",
  "widgets": {
   "application/vnd.jupyter.widget-state+json": {
    "c54c6ca26b964abab69c9dacbba6cff9": {
     "model_module": "@jupyter-widgets/controls",
     "model_name": "HBoxModel",
     "model_module_version": "1.5.0",
     "state": {
      "_dom_classes": [],
      "_model_module": "@jupyter-widgets/controls",
      "_model_module_version": "1.5.0",
      "_model_name": "HBoxModel",
      "_view_count": null,
      "_view_module": "@jupyter-widgets/controls",
      "_view_module_version": "1.5.0",
      "_view_name": "HBoxView",
      "box_style": "",
      "children": [
       "IPY_MODEL_ae2f2bf7077f4680ae2e109b75407764",
       "IPY_MODEL_34e156e4ccd6452ca35acd38d29b1b3e",
       "IPY_MODEL_7affb9dd8d25481798a264e4e774ed7c"
      ],
      "layout": "IPY_MODEL_df85c4e991a548a580b5e99d5f4ba4d7"
     }
    },
    "ae2f2bf7077f4680ae2e109b75407764": {
     "model_module": "@jupyter-widgets/controls",
     "model_name": "HTMLModel",
     "model_module_version": "1.5.0",
     "state": {
      "_dom_classes": [],
      "_model_module": "@jupyter-widgets/controls",
      "_model_module_version": "1.5.0",
      "_model_name": "HTMLModel",
      "_view_count": null,
      "_view_module": "@jupyter-widgets/controls",
      "_view_module_version": "1.5.0",
      "_view_name": "HTMLView",
      "description": "",
      "description_tooltip": null,
      "layout": "IPY_MODEL_e3cbe98eebcf41d580c88dd4081bf979",
      "placeholder": "​",
      "style": "IPY_MODEL_4cd3fe9ba44441a7a0106fe9fd28e150",
      "value": "Downloading (…)lve/main/config.json: 100%"
     }
    },
    "34e156e4ccd6452ca35acd38d29b1b3e": {
     "model_module": "@jupyter-widgets/controls",
     "model_name": "FloatProgressModel",
     "model_module_version": "1.5.0",
     "state": {
      "_dom_classes": [],
      "_model_module": "@jupyter-widgets/controls",
      "_model_module_version": "1.5.0",
      "_model_name": "FloatProgressModel",
      "_view_count": null,
      "_view_module": "@jupyter-widgets/controls",
      "_view_module_version": "1.5.0",
      "_view_name": "ProgressView",
      "bar_style": "success",
      "description": "",
      "description_tooltip": null,
      "layout": "IPY_MODEL_dae601048ebb405a99804243912a8772",
      "max": 684,
      "min": 0,
      "orientation": "horizontal",
      "style": "IPY_MODEL_76e985d34a8e47b0ad2eab9ed07b0528",
      "value": 684
     }
    },
    "7affb9dd8d25481798a264e4e774ed7c": {
     "model_module": "@jupyter-widgets/controls",
     "model_name": "HTMLModel",
     "model_module_version": "1.5.0",
     "state": {
      "_dom_classes": [],
      "_model_module": "@jupyter-widgets/controls",
      "_model_module_version": "1.5.0",
      "_model_name": "HTMLModel",
      "_view_count": null,
      "_view_module": "@jupyter-widgets/controls",
      "_view_module_version": "1.5.0",
      "_view_name": "HTMLView",
      "description": "",
      "description_tooltip": null,
      "layout": "IPY_MODEL_19011f4dc29245cb857e13027235a34e",
      "placeholder": "​",
      "style": "IPY_MODEL_0c25009ef8c340c79919574bc67b5d6f",
      "value": " 684/684 [00:00&lt;00:00, 20.1kB/s]"
     }
    },
    "df85c4e991a548a580b5e99d5f4ba4d7": {
     "model_module": "@jupyter-widgets/base",
     "model_name": "LayoutModel",
     "model_module_version": "1.2.0",
     "state": {
      "_model_module": "@jupyter-widgets/base",
      "_model_module_version": "1.2.0",
      "_model_name": "LayoutModel",
      "_view_count": null,
      "_view_module": "@jupyter-widgets/base",
      "_view_module_version": "1.2.0",
      "_view_name": "LayoutView",
      "align_content": null,
      "align_items": null,
      "align_self": null,
      "border": null,
      "bottom": null,
      "display": null,
      "flex": null,
      "flex_flow": null,
      "grid_area": null,
      "grid_auto_columns": null,
      "grid_auto_flow": null,
      "grid_auto_rows": null,
      "grid_column": null,
      "grid_gap": null,
      "grid_row": null,
      "grid_template_areas": null,
      "grid_template_columns": null,
      "grid_template_rows": null,
      "height": null,
      "justify_content": null,
      "justify_items": null,
      "left": null,
      "margin": null,
      "max_height": null,
      "max_width": null,
      "min_height": null,
      "min_width": null,
      "object_fit": null,
      "object_position": null,
      "order": null,
      "overflow": null,
      "overflow_x": null,
      "overflow_y": null,
      "padding": null,
      "right": null,
      "top": null,
      "visibility": null,
      "width": null
     }
    },
    "e3cbe98eebcf41d580c88dd4081bf979": {
     "model_module": "@jupyter-widgets/base",
     "model_name": "LayoutModel",
     "model_module_version": "1.2.0",
     "state": {
      "_model_module": "@jupyter-widgets/base",
      "_model_module_version": "1.2.0",
      "_model_name": "LayoutModel",
      "_view_count": null,
      "_view_module": "@jupyter-widgets/base",
      "_view_module_version": "1.2.0",
      "_view_name": "LayoutView",
      "align_content": null,
      "align_items": null,
      "align_self": null,
      "border": null,
      "bottom": null,
      "display": null,
      "flex": null,
      "flex_flow": null,
      "grid_area": null,
      "grid_auto_columns": null,
      "grid_auto_flow": null,
      "grid_auto_rows": null,
      "grid_column": null,
      "grid_gap": null,
      "grid_row": null,
      "grid_template_areas": null,
      "grid_template_columns": null,
      "grid_template_rows": null,
      "height": null,
      "justify_content": null,
      "justify_items": null,
      "left": null,
      "margin": null,
      "max_height": null,
      "max_width": null,
      "min_height": null,
      "min_width": null,
      "object_fit": null,
      "object_position": null,
      "order": null,
      "overflow": null,
      "overflow_x": null,
      "overflow_y": null,
      "padding": null,
      "right": null,
      "top": null,
      "visibility": null,
      "width": null
     }
    },
    "4cd3fe9ba44441a7a0106fe9fd28e150": {
     "model_module": "@jupyter-widgets/controls",
     "model_name": "DescriptionStyleModel",
     "model_module_version": "1.5.0",
     "state": {
      "_model_module": "@jupyter-widgets/controls",
      "_model_module_version": "1.5.0",
      "_model_name": "DescriptionStyleModel",
      "_view_count": null,
      "_view_module": "@jupyter-widgets/base",
      "_view_module_version": "1.2.0",
      "_view_name": "StyleView",
      "description_width": ""
     }
    },
    "dae601048ebb405a99804243912a8772": {
     "model_module": "@jupyter-widgets/base",
     "model_name": "LayoutModel",
     "model_module_version": "1.2.0",
     "state": {
      "_model_module": "@jupyter-widgets/base",
      "_model_module_version": "1.2.0",
      "_model_name": "LayoutModel",
      "_view_count": null,
      "_view_module": "@jupyter-widgets/base",
      "_view_module_version": "1.2.0",
      "_view_name": "LayoutView",
      "align_content": null,
      "align_items": null,
      "align_self": null,
      "border": null,
      "bottom": null,
      "display": null,
      "flex": null,
      "flex_flow": null,
      "grid_area": null,
      "grid_auto_columns": null,
      "grid_auto_flow": null,
      "grid_auto_rows": null,
      "grid_column": null,
      "grid_gap": null,
      "grid_row": null,
      "grid_template_areas": null,
      "grid_template_columns": null,
      "grid_template_rows": null,
      "height": null,
      "justify_content": null,
      "justify_items": null,
      "left": null,
      "margin": null,
      "max_height": null,
      "max_width": null,
      "min_height": null,
      "min_width": null,
      "object_fit": null,
      "object_position": null,
      "order": null,
      "overflow": null,
      "overflow_x": null,
      "overflow_y": null,
      "padding": null,
      "right": null,
      "top": null,
      "visibility": null,
      "width": null
     }
    },
    "76e985d34a8e47b0ad2eab9ed07b0528": {
     "model_module": "@jupyter-widgets/controls",
     "model_name": "ProgressStyleModel",
     "model_module_version": "1.5.0",
     "state": {
      "_model_module": "@jupyter-widgets/controls",
      "_model_module_version": "1.5.0",
      "_model_name": "ProgressStyleModel",
      "_view_count": null,
      "_view_module": "@jupyter-widgets/base",
      "_view_module_version": "1.2.0",
      "_view_name": "StyleView",
      "bar_color": null,
      "description_width": ""
     }
    },
    "19011f4dc29245cb857e13027235a34e": {
     "model_module": "@jupyter-widgets/base",
     "model_name": "LayoutModel",
     "model_module_version": "1.2.0",
     "state": {
      "_model_module": "@jupyter-widgets/base",
      "_model_module_version": "1.2.0",
      "_model_name": "LayoutModel",
      "_view_count": null,
      "_view_module": "@jupyter-widgets/base",
      "_view_module_version": "1.2.0",
      "_view_name": "LayoutView",
      "align_content": null,
      "align_items": null,
      "align_self": null,
      "border": null,
      "bottom": null,
      "display": null,
      "flex": null,
      "flex_flow": null,
      "grid_area": null,
      "grid_auto_columns": null,
      "grid_auto_flow": null,
      "grid_auto_rows": null,
      "grid_column": null,
      "grid_gap": null,
      "grid_row": null,
      "grid_template_areas": null,
      "grid_template_columns": null,
      "grid_template_rows": null,
      "height": null,
      "justify_content": null,
      "justify_items": null,
      "left": null,
      "margin": null,
      "max_height": null,
      "max_width": null,
      "min_height": null,
      "min_width": null,
      "object_fit": null,
      "object_position": null,
      "order": null,
      "overflow": null,
      "overflow_x": null,
      "overflow_y": null,
      "padding": null,
      "right": null,
      "top": null,
      "visibility": null,
      "width": null
     }
    },
    "0c25009ef8c340c79919574bc67b5d6f": {
     "model_module": "@jupyter-widgets/controls",
     "model_name": "DescriptionStyleModel",
     "model_module_version": "1.5.0",
     "state": {
      "_model_module": "@jupyter-widgets/controls",
      "_model_module_version": "1.5.0",
      "_model_name": "DescriptionStyleModel",
      "_view_count": null,
      "_view_module": "@jupyter-widgets/base",
      "_view_module_version": "1.2.0",
      "_view_name": "StyleView",
      "description_width": ""
     }
    },
    "6c70141cfcde4e52b0148e6fffa2c899": {
     "model_module": "@jupyter-widgets/controls",
     "model_name": "HBoxModel",
     "model_module_version": "1.5.0",
     "state": {
      "_dom_classes": [],
      "_model_module": "@jupyter-widgets/controls",
      "_model_module_version": "1.5.0",
      "_model_name": "HBoxModel",
      "_view_count": null,
      "_view_module": "@jupyter-widgets/controls",
      "_view_module_version": "1.5.0",
      "_view_name": "HBoxView",
      "box_style": "",
      "children": [
       "IPY_MODEL_f3190fc2c53d424a88f8ba774a2fa4e6",
       "IPY_MODEL_86836a856508418ab32a6189cfe9fbb1",
       "IPY_MODEL_c745066e8ee4440496f374017654a5b6"
      ],
      "layout": "IPY_MODEL_6280dd1a75af44cdb2bbd2327ce8d4c1"
     }
    },
    "f3190fc2c53d424a88f8ba774a2fa4e6": {
     "model_module": "@jupyter-widgets/controls",
     "model_name": "HTMLModel",
     "model_module_version": "1.5.0",
     "state": {
      "_dom_classes": [],
      "_model_module": "@jupyter-widgets/controls",
      "_model_module_version": "1.5.0",
      "_model_name": "HTMLModel",
      "_view_count": null,
      "_view_module": "@jupyter-widgets/controls",
      "_view_module_version": "1.5.0",
      "_view_name": "HTMLView",
      "description": "",
      "description_tooltip": null,
      "layout": "IPY_MODEL_82b8fab88160400781d75c88f80227ee",
      "placeholder": "​",
      "style": "IPY_MODEL_56b969641c244bb9abcc2e70bc0632b6",
      "value": "Downloading (…)ve/main/spiece.model: 100%"
     }
    },
    "86836a856508418ab32a6189cfe9fbb1": {
     "model_module": "@jupyter-widgets/controls",
     "model_name": "FloatProgressModel",
     "model_module_version": "1.5.0",
     "state": {
      "_dom_classes": [],
      "_model_module": "@jupyter-widgets/controls",
      "_model_module_version": "1.5.0",
      "_model_name": "FloatProgressModel",
      "_view_count": null,
      "_view_module": "@jupyter-widgets/controls",
      "_view_module_version": "1.5.0",
      "_view_name": "ProgressView",
      "bar_style": "success",
      "description": "",
      "description_tooltip": null,
      "layout": "IPY_MODEL_d99922cc63a84c6f8ecd2f834a2fc363",
      "max": 760289,
      "min": 0,
      "orientation": "horizontal",
      "style": "IPY_MODEL_ed45a1cce1964870a135b632fb36844a",
      "value": 760289
     }
    },
    "c745066e8ee4440496f374017654a5b6": {
     "model_module": "@jupyter-widgets/controls",
     "model_name": "HTMLModel",
     "model_module_version": "1.5.0",
     "state": {
      "_dom_classes": [],
      "_model_module": "@jupyter-widgets/controls",
      "_model_module_version": "1.5.0",
      "_model_name": "HTMLModel",
      "_view_count": null,
      "_view_module": "@jupyter-widgets/controls",
      "_view_module_version": "1.5.0",
      "_view_name": "HTMLView",
      "description": "",
      "description_tooltip": null,
      "layout": "IPY_MODEL_4e425369bd914205bcf8f1e4c9502e4b",
      "placeholder": "​",
      "style": "IPY_MODEL_03aefc18aa81472a8cb2d924bf717797",
      "value": " 760k/760k [00:00&lt;00:00, 6.28MB/s]"
     }
    },
    "6280dd1a75af44cdb2bbd2327ce8d4c1": {
     "model_module": "@jupyter-widgets/base",
     "model_name": "LayoutModel",
     "model_module_version": "1.2.0",
     "state": {
      "_model_module": "@jupyter-widgets/base",
      "_model_module_version": "1.2.0",
      "_model_name": "LayoutModel",
      "_view_count": null,
      "_view_module": "@jupyter-widgets/base",
      "_view_module_version": "1.2.0",
      "_view_name": "LayoutView",
      "align_content": null,
      "align_items": null,
      "align_self": null,
      "border": null,
      "bottom": null,
      "display": null,
      "flex": null,
      "flex_flow": null,
      "grid_area": null,
      "grid_auto_columns": null,
      "grid_auto_flow": null,
      "grid_auto_rows": null,
      "grid_column": null,
      "grid_gap": null,
      "grid_row": null,
      "grid_template_areas": null,
      "grid_template_columns": null,
      "grid_template_rows": null,
      "height": null,
      "justify_content": null,
      "justify_items": null,
      "left": null,
      "margin": null,
      "max_height": null,
      "max_width": null,
      "min_height": null,
      "min_width": null,
      "object_fit": null,
      "object_position": null,
      "order": null,
      "overflow": null,
      "overflow_x": null,
      "overflow_y": null,
      "padding": null,
      "right": null,
      "top": null,
      "visibility": null,
      "width": null
     }
    },
    "82b8fab88160400781d75c88f80227ee": {
     "model_module": "@jupyter-widgets/base",
     "model_name": "LayoutModel",
     "model_module_version": "1.2.0",
     "state": {
      "_model_module": "@jupyter-widgets/base",
      "_model_module_version": "1.2.0",
      "_model_name": "LayoutModel",
      "_view_count": null,
      "_view_module": "@jupyter-widgets/base",
      "_view_module_version": "1.2.0",
      "_view_name": "LayoutView",
      "align_content": null,
      "align_items": null,
      "align_self": null,
      "border": null,
      "bottom": null,
      "display": null,
      "flex": null,
      "flex_flow": null,
      "grid_area": null,
      "grid_auto_columns": null,
      "grid_auto_flow": null,
      "grid_auto_rows": null,
      "grid_column": null,
      "grid_gap": null,
      "grid_row": null,
      "grid_template_areas": null,
      "grid_template_columns": null,
      "grid_template_rows": null,
      "height": null,
      "justify_content": null,
      "justify_items": null,
      "left": null,
      "margin": null,
      "max_height": null,
      "max_width": null,
      "min_height": null,
      "min_width": null,
      "object_fit": null,
      "object_position": null,
      "order": null,
      "overflow": null,
      "overflow_x": null,
      "overflow_y": null,
      "padding": null,
      "right": null,
      "top": null,
      "visibility": null,
      "width": null
     }
    },
    "56b969641c244bb9abcc2e70bc0632b6": {
     "model_module": "@jupyter-widgets/controls",
     "model_name": "DescriptionStyleModel",
     "model_module_version": "1.5.0",
     "state": {
      "_model_module": "@jupyter-widgets/controls",
      "_model_module_version": "1.5.0",
      "_model_name": "DescriptionStyleModel",
      "_view_count": null,
      "_view_module": "@jupyter-widgets/base",
      "_view_module_version": "1.2.0",
      "_view_name": "StyleView",
      "description_width": ""
     }
    },
    "d99922cc63a84c6f8ecd2f834a2fc363": {
     "model_module": "@jupyter-widgets/base",
     "model_name": "LayoutModel",
     "model_module_version": "1.2.0",
     "state": {
      "_model_module": "@jupyter-widgets/base",
      "_model_module_version": "1.2.0",
      "_model_name": "LayoutModel",
      "_view_count": null,
      "_view_module": "@jupyter-widgets/base",
      "_view_module_version": "1.2.0",
      "_view_name": "LayoutView",
      "align_content": null,
      "align_items": null,
      "align_self": null,
      "border": null,
      "bottom": null,
      "display": null,
      "flex": null,
      "flex_flow": null,
      "grid_area": null,
      "grid_auto_columns": null,
      "grid_auto_flow": null,
      "grid_auto_rows": null,
      "grid_column": null,
      "grid_gap": null,
      "grid_row": null,
      "grid_template_areas": null,
      "grid_template_columns": null,
      "grid_template_rows": null,
      "height": null,
      "justify_content": null,
      "justify_items": null,
      "left": null,
      "margin": null,
      "max_height": null,
      "max_width": null,
      "min_height": null,
      "min_width": null,
      "object_fit": null,
      "object_position": null,
      "order": null,
      "overflow": null,
      "overflow_x": null,
      "overflow_y": null,
      "padding": null,
      "right": null,
      "top": null,
      "visibility": null,
      "width": null
     }
    },
    "ed45a1cce1964870a135b632fb36844a": {
     "model_module": "@jupyter-widgets/controls",
     "model_name": "ProgressStyleModel",
     "model_module_version": "1.5.0",
     "state": {
      "_model_module": "@jupyter-widgets/controls",
      "_model_module_version": "1.5.0",
      "_model_name": "ProgressStyleModel",
      "_view_count": null,
      "_view_module": "@jupyter-widgets/base",
      "_view_module_version": "1.2.0",
      "_view_name": "StyleView",
      "bar_color": null,
      "description_width": ""
     }
    },
    "4e425369bd914205bcf8f1e4c9502e4b": {
     "model_module": "@jupyter-widgets/base",
     "model_name": "LayoutModel",
     "model_module_version": "1.2.0",
     "state": {
      "_model_module": "@jupyter-widgets/base",
      "_model_module_version": "1.2.0",
      "_model_name": "LayoutModel",
      "_view_count": null,
      "_view_module": "@jupyter-widgets/base",
      "_view_module_version": "1.2.0",
      "_view_name": "LayoutView",
      "align_content": null,
      "align_items": null,
      "align_self": null,
      "border": null,
      "bottom": null,
      "display": null,
      "flex": null,
      "flex_flow": null,
      "grid_area": null,
      "grid_auto_columns": null,
      "grid_auto_flow": null,
      "grid_auto_rows": null,
      "grid_column": null,
      "grid_gap": null,
      "grid_row": null,
      "grid_template_areas": null,
      "grid_template_columns": null,
      "grid_template_rows": null,
      "height": null,
      "justify_content": null,
      "justify_items": null,
      "left": null,
      "margin": null,
      "max_height": null,
      "max_width": null,
      "min_height": null,
      "min_width": null,
      "object_fit": null,
      "object_position": null,
      "order": null,
      "overflow": null,
      "overflow_x": null,
      "overflow_y": null,
      "padding": null,
      "right": null,
      "top": null,
      "visibility": null,
      "width": null
     }
    },
    "03aefc18aa81472a8cb2d924bf717797": {
     "model_module": "@jupyter-widgets/controls",
     "model_name": "DescriptionStyleModel",
     "model_module_version": "1.5.0",
     "state": {
      "_model_module": "@jupyter-widgets/controls",
      "_model_module_version": "1.5.0",
      "_model_name": "DescriptionStyleModel",
      "_view_count": null,
      "_view_module": "@jupyter-widgets/base",
      "_view_module_version": "1.2.0",
      "_view_name": "StyleView",
      "description_width": ""
     }
    },
    "f7d885758a864c2aa58f427cf7f5eb1a": {
     "model_module": "@jupyter-widgets/controls",
     "model_name": "HBoxModel",
     "model_module_version": "1.5.0",
     "state": {
      "_dom_classes": [],
      "_model_module": "@jupyter-widgets/controls",
      "_model_module_version": "1.5.0",
      "_model_name": "HBoxModel",
      "_view_count": null,
      "_view_module": "@jupyter-widgets/controls",
      "_view_module_version": "1.5.0",
      "_view_name": "HBoxView",
      "box_style": "",
      "children": [
       "IPY_MODEL_cf8d2bd7e9ab4a99b5dcadefece03116",
       "IPY_MODEL_952eb429d77b4a15aa467e92842cafc4",
       "IPY_MODEL_376179c0b1a04f2e9d82a6c87fc751c3"
      ],
      "layout": "IPY_MODEL_23c2618f456344e9a2d289d00a0e6f5d"
     }
    },
    "cf8d2bd7e9ab4a99b5dcadefece03116": {
     "model_module": "@jupyter-widgets/controls",
     "model_name": "HTMLModel",
     "model_module_version": "1.5.0",
     "state": {
      "_dom_classes": [],
      "_model_module": "@jupyter-widgets/controls",
      "_model_module_version": "1.5.0",
      "_model_name": "HTMLModel",
      "_view_count": null,
      "_view_module": "@jupyter-widgets/controls",
      "_view_module_version": "1.5.0",
      "_view_name": "HTMLView",
      "description": "",
      "description_tooltip": null,
      "layout": "IPY_MODEL_b4d9c5f28a25447db7e077c8b39e8a42",
      "placeholder": "​",
      "style": "IPY_MODEL_a79be23f68c44a20b12b09401ad4e064",
      "value": "Downloading (…)/main/tokenizer.json: 100%"
     }
    },
    "952eb429d77b4a15aa467e92842cafc4": {
     "model_module": "@jupyter-widgets/controls",
     "model_name": "FloatProgressModel",
     "model_module_version": "1.5.0",
     "state": {
      "_dom_classes": [],
      "_model_module": "@jupyter-widgets/controls",
      "_model_module_version": "1.5.0",
      "_model_name": "FloatProgressModel",
      "_view_count": null,
      "_view_module": "@jupyter-widgets/controls",
      "_view_module_version": "1.5.0",
      "_view_name": "ProgressView",
      "bar_style": "success",
      "description": "",
      "description_tooltip": null,
      "layout": "IPY_MODEL_a58dbfd4efb04c2a8945e0322be3231e",
      "max": 1312669,
      "min": 0,
      "orientation": "horizontal",
      "style": "IPY_MODEL_9c95b505cffa4133a58536a676505d08",
      "value": 1312669
     }
    },
    "376179c0b1a04f2e9d82a6c87fc751c3": {
     "model_module": "@jupyter-widgets/controls",
     "model_name": "HTMLModel",
     "model_module_version": "1.5.0",
     "state": {
      "_dom_classes": [],
      "_model_module": "@jupyter-widgets/controls",
      "_model_module_version": "1.5.0",
      "_model_name": "HTMLModel",
      "_view_count": null,
      "_view_module": "@jupyter-widgets/controls",
      "_view_module_version": "1.5.0",
      "_view_name": "HTMLView",
      "description": "",
      "description_tooltip": null,
      "layout": "IPY_MODEL_bf454b031e7f4f56bc6ae7cbbc7acbb0",
      "placeholder": "​",
      "style": "IPY_MODEL_76bbd43ce8ba4e798f271c446d7ce6e6",
      "value": " 1.31M/1.31M [00:00&lt;00:00, 16.1MB/s]"
     }
    },
    "23c2618f456344e9a2d289d00a0e6f5d": {
     "model_module": "@jupyter-widgets/base",
     "model_name": "LayoutModel",
     "model_module_version": "1.2.0",
     "state": {
      "_model_module": "@jupyter-widgets/base",
      "_model_module_version": "1.2.0",
      "_model_name": "LayoutModel",
      "_view_count": null,
      "_view_module": "@jupyter-widgets/base",
      "_view_module_version": "1.2.0",
      "_view_name": "LayoutView",
      "align_content": null,
      "align_items": null,
      "align_self": null,
      "border": null,
      "bottom": null,
      "display": null,
      "flex": null,
      "flex_flow": null,
      "grid_area": null,
      "grid_auto_columns": null,
      "grid_auto_flow": null,
      "grid_auto_rows": null,
      "grid_column": null,
      "grid_gap": null,
      "grid_row": null,
      "grid_template_areas": null,
      "grid_template_columns": null,
      "grid_template_rows": null,
      "height": null,
      "justify_content": null,
      "justify_items": null,
      "left": null,
      "margin": null,
      "max_height": null,
      "max_width": null,
      "min_height": null,
      "min_width": null,
      "object_fit": null,
      "object_position": null,
      "order": null,
      "overflow": null,
      "overflow_x": null,
      "overflow_y": null,
      "padding": null,
      "right": null,
      "top": null,
      "visibility": null,
      "width": null
     }
    },
    "b4d9c5f28a25447db7e077c8b39e8a42": {
     "model_module": "@jupyter-widgets/base",
     "model_name": "LayoutModel",
     "model_module_version": "1.2.0",
     "state": {
      "_model_module": "@jupyter-widgets/base",
      "_model_module_version": "1.2.0",
      "_model_name": "LayoutModel",
      "_view_count": null,
      "_view_module": "@jupyter-widgets/base",
      "_view_module_version": "1.2.0",
      "_view_name": "LayoutView",
      "align_content": null,
      "align_items": null,
      "align_self": null,
      "border": null,
      "bottom": null,
      "display": null,
      "flex": null,
      "flex_flow": null,
      "grid_area": null,
      "grid_auto_columns": null,
      "grid_auto_flow": null,
      "grid_auto_rows": null,
      "grid_column": null,
      "grid_gap": null,
      "grid_row": null,
      "grid_template_areas": null,
      "grid_template_columns": null,
      "grid_template_rows": null,
      "height": null,
      "justify_content": null,
      "justify_items": null,
      "left": null,
      "margin": null,
      "max_height": null,
      "max_width": null,
      "min_height": null,
      "min_width": null,
      "object_fit": null,
      "object_position": null,
      "order": null,
      "overflow": null,
      "overflow_x": null,
      "overflow_y": null,
      "padding": null,
      "right": null,
      "top": null,
      "visibility": null,
      "width": null
     }
    },
    "a79be23f68c44a20b12b09401ad4e064": {
     "model_module": "@jupyter-widgets/controls",
     "model_name": "DescriptionStyleModel",
     "model_module_version": "1.5.0",
     "state": {
      "_model_module": "@jupyter-widgets/controls",
      "_model_module_version": "1.5.0",
      "_model_name": "DescriptionStyleModel",
      "_view_count": null,
      "_view_module": "@jupyter-widgets/base",
      "_view_module_version": "1.2.0",
      "_view_name": "StyleView",
      "description_width": ""
     }
    },
    "a58dbfd4efb04c2a8945e0322be3231e": {
     "model_module": "@jupyter-widgets/base",
     "model_name": "LayoutModel",
     "model_module_version": "1.2.0",
     "state": {
      "_model_module": "@jupyter-widgets/base",
      "_model_module_version": "1.2.0",
      "_model_name": "LayoutModel",
      "_view_count": null,
      "_view_module": "@jupyter-widgets/base",
      "_view_module_version": "1.2.0",
      "_view_name": "LayoutView",
      "align_content": null,
      "align_items": null,
      "align_self": null,
      "border": null,
      "bottom": null,
      "display": null,
      "flex": null,
      "flex_flow": null,
      "grid_area": null,
      "grid_auto_columns": null,
      "grid_auto_flow": null,
      "grid_auto_rows": null,
      "grid_column": null,
      "grid_gap": null,
      "grid_row": null,
      "grid_template_areas": null,
      "grid_template_columns": null,
      "grid_template_rows": null,
      "height": null,
      "justify_content": null,
      "justify_items": null,
      "left": null,
      "margin": null,
      "max_height": null,
      "max_width": null,
      "min_height": null,
      "min_width": null,
      "object_fit": null,
      "object_position": null,
      "order": null,
      "overflow": null,
      "overflow_x": null,
      "overflow_y": null,
      "padding": null,
      "right": null,
      "top": null,
      "visibility": null,
      "width": null
     }
    },
    "9c95b505cffa4133a58536a676505d08": {
     "model_module": "@jupyter-widgets/controls",
     "model_name": "ProgressStyleModel",
     "model_module_version": "1.5.0",
     "state": {
      "_model_module": "@jupyter-widgets/controls",
      "_model_module_version": "1.5.0",
      "_model_name": "ProgressStyleModel",
      "_view_count": null,
      "_view_module": "@jupyter-widgets/base",
      "_view_module_version": "1.2.0",
      "_view_name": "StyleView",
      "bar_color": null,
      "description_width": ""
     }
    },
    "bf454b031e7f4f56bc6ae7cbbc7acbb0": {
     "model_module": "@jupyter-widgets/base",
     "model_name": "LayoutModel",
     "model_module_version": "1.2.0",
     "state": {
      "_model_module": "@jupyter-widgets/base",
      "_model_module_version": "1.2.0",
      "_model_name": "LayoutModel",
      "_view_count": null,
      "_view_module": "@jupyter-widgets/base",
      "_view_module_version": "1.2.0",
      "_view_name": "LayoutView",
      "align_content": null,
      "align_items": null,
      "align_self": null,
      "border": null,
      "bottom": null,
      "display": null,
      "flex": null,
      "flex_flow": null,
      "grid_area": null,
      "grid_auto_columns": null,
      "grid_auto_flow": null,
      "grid_auto_rows": null,
      "grid_column": null,
      "grid_gap": null,
      "grid_row": null,
      "grid_template_areas": null,
      "grid_template_columns": null,
      "grid_template_rows": null,
      "height": null,
      "justify_content": null,
      "justify_items": null,
      "left": null,
      "margin": null,
      "max_height": null,
      "max_width": null,
      "min_height": null,
      "min_width": null,
      "object_fit": null,
      "object_position": null,
      "order": null,
      "overflow": null,
      "overflow_x": null,
      "overflow_y": null,
      "padding": null,
      "right": null,
      "top": null,
      "visibility": null,
      "width": null
     }
    },
    "76bbd43ce8ba4e798f271c446d7ce6e6": {
     "model_module": "@jupyter-widgets/controls",
     "model_name": "DescriptionStyleModel",
     "model_module_version": "1.5.0",
     "state": {
      "_model_module": "@jupyter-widgets/controls",
      "_model_module_version": "1.5.0",
      "_model_name": "DescriptionStyleModel",
      "_view_count": null,
      "_view_module": "@jupyter-widgets/base",
      "_view_module_version": "1.2.0",
      "_view_name": "StyleView",
      "description_width": ""
     }
    },
    "048c7661824a42a3b150086fc5fb24b3": {
     "model_module": "@jupyter-widgets/controls",
     "model_name": "HBoxModel",
     "model_module_version": "1.5.0",
     "state": {
      "_dom_classes": [],
      "_model_module": "@jupyter-widgets/controls",
      "_model_module_version": "1.5.0",
      "_model_name": "HBoxModel",
      "_view_count": null,
      "_view_module": "@jupyter-widgets/controls",
      "_view_module_version": "1.5.0",
      "_view_name": "HBoxView",
      "box_style": "",
      "children": [
       "IPY_MODEL_a39964ac21154d368ee74b263fe9ee91",
       "IPY_MODEL_6db09d0f94c04d26beef84c48973e92e",
       "IPY_MODEL_7fbfeca2acd04f68aa321fe0e6df6bea"
      ],
      "layout": "IPY_MODEL_9314225908e74008acf4d6c86edf4b98"
     }
    },
    "a39964ac21154d368ee74b263fe9ee91": {
     "model_module": "@jupyter-widgets/controls",
     "model_name": "HTMLModel",
     "model_module_version": "1.5.0",
     "state": {
      "_dom_classes": [],
      "_model_module": "@jupyter-widgets/controls",
      "_model_module_version": "1.5.0",
      "_model_name": "HTMLModel",
      "_view_count": null,
      "_view_module": "@jupyter-widgets/controls",
      "_view_module_version": "1.5.0",
      "_view_name": "HTMLView",
      "description": "",
      "description_tooltip": null,
      "layout": "IPY_MODEL_ab973a92d17f4aac8c9c200b08df1392",
      "placeholder": "​",
      "style": "IPY_MODEL_e58da1b828d2496f9c4a52ad1c9377a6",
      "value": "Downloading pytorch_model.bin: 100%"
     }
    },
    "6db09d0f94c04d26beef84c48973e92e": {
     "model_module": "@jupyter-widgets/controls",
     "model_name": "FloatProgressModel",
     "model_module_version": "1.5.0",
     "state": {
      "_dom_classes": [],
      "_model_module": "@jupyter-widgets/controls",
      "_model_module_version": "1.5.0",
      "_model_name": "FloatProgressModel",
      "_view_count": null,
      "_view_module": "@jupyter-widgets/controls",
      "_view_module_version": "1.5.0",
      "_view_name": "ProgressView",
      "bar_style": "success",
      "description": "",
      "description_tooltip": null,
      "layout": "IPY_MODEL_afcf13961e434487b48126e379443aaf",
      "max": 47376696,
      "min": 0,
      "orientation": "horizontal",
      "style": "IPY_MODEL_ba49b02d383542e782b785bdfdd184d2",
      "value": 47376696
     }
    },
    "7fbfeca2acd04f68aa321fe0e6df6bea": {
     "model_module": "@jupyter-widgets/controls",
     "model_name": "HTMLModel",
     "model_module_version": "1.5.0",
     "state": {
      "_dom_classes": [],
      "_model_module": "@jupyter-widgets/controls",
      "_model_module_version": "1.5.0",
      "_model_name": "HTMLModel",
      "_view_count": null,
      "_view_module": "@jupyter-widgets/controls",
      "_view_module_version": "1.5.0",
      "_view_name": "HTMLView",
      "description": "",
      "description_tooltip": null,
      "layout": "IPY_MODEL_d4f488e425554b64b463207124ff21b2",
      "placeholder": "​",
      "style": "IPY_MODEL_93de24a3d5b548e1bc973be7e6e40e3a",
      "value": " 47.4M/47.4M [00:00&lt;00:00, 99.9MB/s]"
     }
    },
    "9314225908e74008acf4d6c86edf4b98": {
     "model_module": "@jupyter-widgets/base",
     "model_name": "LayoutModel",
     "model_module_version": "1.2.0",
     "state": {
      "_model_module": "@jupyter-widgets/base",
      "_model_module_version": "1.2.0",
      "_model_name": "LayoutModel",
      "_view_count": null,
      "_view_module": "@jupyter-widgets/base",
      "_view_module_version": "1.2.0",
      "_view_name": "LayoutView",
      "align_content": null,
      "align_items": null,
      "align_self": null,
      "border": null,
      "bottom": null,
      "display": null,
      "flex": null,
      "flex_flow": null,
      "grid_area": null,
      "grid_auto_columns": null,
      "grid_auto_flow": null,
      "grid_auto_rows": null,
      "grid_column": null,
      "grid_gap": null,
      "grid_row": null,
      "grid_template_areas": null,
      "grid_template_columns": null,
      "grid_template_rows": null,
      "height": null,
      "justify_content": null,
      "justify_items": null,
      "left": null,
      "margin": null,
      "max_height": null,
      "max_width": null,
      "min_height": null,
      "min_width": null,
      "object_fit": null,
      "object_position": null,
      "order": null,
      "overflow": null,
      "overflow_x": null,
      "overflow_y": null,
      "padding": null,
      "right": null,
      "top": null,
      "visibility": null,
      "width": null
     }
    },
    "ab973a92d17f4aac8c9c200b08df1392": {
     "model_module": "@jupyter-widgets/base",
     "model_name": "LayoutModel",
     "model_module_version": "1.2.0",
     "state": {
      "_model_module": "@jupyter-widgets/base",
      "_model_module_version": "1.2.0",
      "_model_name": "LayoutModel",
      "_view_count": null,
      "_view_module": "@jupyter-widgets/base",
      "_view_module_version": "1.2.0",
      "_view_name": "LayoutView",
      "align_content": null,
      "align_items": null,
      "align_self": null,
      "border": null,
      "bottom": null,
      "display": null,
      "flex": null,
      "flex_flow": null,
      "grid_area": null,
      "grid_auto_columns": null,
      "grid_auto_flow": null,
      "grid_auto_rows": null,
      "grid_column": null,
      "grid_gap": null,
      "grid_row": null,
      "grid_template_areas": null,
      "grid_template_columns": null,
      "grid_template_rows": null,
      "height": null,
      "justify_content": null,
      "justify_items": null,
      "left": null,
      "margin": null,
      "max_height": null,
      "max_width": null,
      "min_height": null,
      "min_width": null,
      "object_fit": null,
      "object_position": null,
      "order": null,
      "overflow": null,
      "overflow_x": null,
      "overflow_y": null,
      "padding": null,
      "right": null,
      "top": null,
      "visibility": null,
      "width": null
     }
    },
    "e58da1b828d2496f9c4a52ad1c9377a6": {
     "model_module": "@jupyter-widgets/controls",
     "model_name": "DescriptionStyleModel",
     "model_module_version": "1.5.0",
     "state": {
      "_model_module": "@jupyter-widgets/controls",
      "_model_module_version": "1.5.0",
      "_model_name": "DescriptionStyleModel",
      "_view_count": null,
      "_view_module": "@jupyter-widgets/base",
      "_view_module_version": "1.2.0",
      "_view_name": "StyleView",
      "description_width": ""
     }
    },
    "afcf13961e434487b48126e379443aaf": {
     "model_module": "@jupyter-widgets/base",
     "model_name": "LayoutModel",
     "model_module_version": "1.2.0",
     "state": {
      "_model_module": "@jupyter-widgets/base",
      "_model_module_version": "1.2.0",
      "_model_name": "LayoutModel",
      "_view_count": null,
      "_view_module": "@jupyter-widgets/base",
      "_view_module_version": "1.2.0",
      "_view_name": "LayoutView",
      "align_content": null,
      "align_items": null,
      "align_self": null,
      "border": null,
      "bottom": null,
      "display": null,
      "flex": null,
      "flex_flow": null,
      "grid_area": null,
      "grid_auto_columns": null,
      "grid_auto_flow": null,
      "grid_auto_rows": null,
      "grid_column": null,
      "grid_gap": null,
      "grid_row": null,
      "grid_template_areas": null,
      "grid_template_columns": null,
      "grid_template_rows": null,
      "height": null,
      "justify_content": null,
      "justify_items": null,
      "left": null,
      "margin": null,
      "max_height": null,
      "max_width": null,
      "min_height": null,
      "min_width": null,
      "object_fit": null,
      "object_position": null,
      "order": null,
      "overflow": null,
      "overflow_x": null,
      "overflow_y": null,
      "padding": null,
      "right": null,
      "top": null,
      "visibility": null,
      "width": null
     }
    },
    "ba49b02d383542e782b785bdfdd184d2": {
     "model_module": "@jupyter-widgets/controls",
     "model_name": "ProgressStyleModel",
     "model_module_version": "1.5.0",
     "state": {
      "_model_module": "@jupyter-widgets/controls",
      "_model_module_version": "1.5.0",
      "_model_name": "ProgressStyleModel",
      "_view_count": null,
      "_view_module": "@jupyter-widgets/base",
      "_view_module_version": "1.2.0",
      "_view_name": "StyleView",
      "bar_color": null,
      "description_width": ""
     }
    },
    "d4f488e425554b64b463207124ff21b2": {
     "model_module": "@jupyter-widgets/base",
     "model_name": "LayoutModel",
     "model_module_version": "1.2.0",
     "state": {
      "_model_module": "@jupyter-widgets/base",
      "_model_module_version": "1.2.0",
      "_model_name": "LayoutModel",
      "_view_count": null,
      "_view_module": "@jupyter-widgets/base",
      "_view_module_version": "1.2.0",
      "_view_name": "LayoutView",
      "align_content": null,
      "align_items": null,
      "align_self": null,
      "border": null,
      "bottom": null,
      "display": null,
      "flex": null,
      "flex_flow": null,
      "grid_area": null,
      "grid_auto_columns": null,
      "grid_auto_flow": null,
      "grid_auto_rows": null,
      "grid_column": null,
      "grid_gap": null,
      "grid_row": null,
      "grid_template_areas": null,
      "grid_template_columns": null,
      "grid_template_rows": null,
      "height": null,
      "justify_content": null,
      "justify_items": null,
      "left": null,
      "margin": null,
      "max_height": null,
      "max_width": null,
      "min_height": null,
      "min_width": null,
      "object_fit": null,
      "object_position": null,
      "order": null,
      "overflow": null,
      "overflow_x": null,
      "overflow_y": null,
      "padding": null,
      "right": null,
      "top": null,
      "visibility": null,
      "width": null
     }
    },
    "93de24a3d5b548e1bc973be7e6e40e3a": {
     "model_module": "@jupyter-widgets/controls",
     "model_name": "DescriptionStyleModel",
     "model_module_version": "1.5.0",
     "state": {
      "_model_module": "@jupyter-widgets/controls",
      "_model_module_version": "1.5.0",
      "_model_name": "DescriptionStyleModel",
      "_view_count": null,
      "_view_module": "@jupyter-widgets/base",
      "_view_module_version": "1.2.0",
      "_view_name": "StyleView",
      "description_width": ""
     }
    },
    "b95e27e5f9574f449802f690312c7800": {
     "model_module": "@jupyter-widgets/controls",
     "model_name": "HBoxModel",
     "model_module_version": "1.5.0",
     "state": {
      "_dom_classes": [],
      "_model_module": "@jupyter-widgets/controls",
      "_model_module_version": "1.5.0",
      "_model_name": "HBoxModel",
      "_view_count": null,
      "_view_module": "@jupyter-widgets/controls",
      "_view_module_version": "1.5.0",
      "_view_name": "HBoxView",
      "box_style": "",
      "children": [
       "IPY_MODEL_ff1367f114474844ab46ac1a02c49535",
       "IPY_MODEL_ace299057c854f8b987f4a389a7396d2",
       "IPY_MODEL_85d0e1383b7e40ff98f48a4dd34237bf"
      ],
      "layout": "IPY_MODEL_636cc602857e40419dd9e5d2cc931a32"
     }
    },
    "ff1367f114474844ab46ac1a02c49535": {
     "model_module": "@jupyter-widgets/controls",
     "model_name": "HTMLModel",
     "model_module_version": "1.5.0",
     "state": {
      "_dom_classes": [],
      "_model_module": "@jupyter-widgets/controls",
      "_model_module_version": "1.5.0",
      "_model_name": "HTMLModel",
      "_view_count": null,
      "_view_module": "@jupyter-widgets/controls",
      "_view_module_version": "1.5.0",
      "_view_name": "HTMLView",
      "description": "",
      "description_tooltip": null,
      "layout": "IPY_MODEL_5ea1e1446b1640258e8999cfc200a1c8",
      "placeholder": "​",
      "style": "IPY_MODEL_c0a33345de4e49a4997e68f1125310c9",
      "value": "100%"
     }
    },
    "ace299057c854f8b987f4a389a7396d2": {
     "model_module": "@jupyter-widgets/controls",
     "model_name": "FloatProgressModel",
     "model_module_version": "1.5.0",
     "state": {
      "_dom_classes": [],
      "_model_module": "@jupyter-widgets/controls",
      "_model_module_version": "1.5.0",
      "_model_name": "FloatProgressModel",
      "_view_count": null,
      "_view_module": "@jupyter-widgets/controls",
      "_view_module_version": "1.5.0",
      "_view_name": "ProgressView",
      "bar_style": "success",
      "description": "",
      "description_tooltip": null,
      "layout": "IPY_MODEL_c2b23ec1df6141d8b563c41b514c0bcb",
      "max": 8625,
      "min": 0,
      "orientation": "horizontal",
      "style": "IPY_MODEL_05e8780ee12e4abd9c9f88a09c24cc83",
      "value": 8625
     }
    },
    "85d0e1383b7e40ff98f48a4dd34237bf": {
     "model_module": "@jupyter-widgets/controls",
     "model_name": "HTMLModel",
     "model_module_version": "1.5.0",
     "state": {
      "_dom_classes": [],
      "_model_module": "@jupyter-widgets/controls",
      "_model_module_version": "1.5.0",
      "_model_name": "HTMLModel",
      "_view_count": null,
      "_view_module": "@jupyter-widgets/controls",
      "_view_module_version": "1.5.0",
      "_view_name": "HTMLView",
      "description": "",
      "description_tooltip": null,
      "layout": "IPY_MODEL_e7b4784e2f914b999ec5310e2168636a",
      "placeholder": "​",
      "style": "IPY_MODEL_4261a3966d0448e890a589b37e1a1e2f",
      "value": " 8625/8625 [3:28:33&lt;00:00,  1.04s/it]"
     }
    },
    "636cc602857e40419dd9e5d2cc931a32": {
     "model_module": "@jupyter-widgets/base",
     "model_name": "LayoutModel",
     "model_module_version": "1.2.0",
     "state": {
      "_model_module": "@jupyter-widgets/base",
      "_model_module_version": "1.2.0",
      "_model_name": "LayoutModel",
      "_view_count": null,
      "_view_module": "@jupyter-widgets/base",
      "_view_module_version": "1.2.0",
      "_view_name": "LayoutView",
      "align_content": null,
      "align_items": null,
      "align_self": null,
      "border": null,
      "bottom": null,
      "display": null,
      "flex": null,
      "flex_flow": null,
      "grid_area": null,
      "grid_auto_columns": null,
      "grid_auto_flow": null,
      "grid_auto_rows": null,
      "grid_column": null,
      "grid_gap": null,
      "grid_row": null,
      "grid_template_areas": null,
      "grid_template_columns": null,
      "grid_template_rows": null,
      "height": null,
      "justify_content": null,
      "justify_items": null,
      "left": null,
      "margin": null,
      "max_height": null,
      "max_width": null,
      "min_height": null,
      "min_width": null,
      "object_fit": null,
      "object_position": null,
      "order": null,
      "overflow": null,
      "overflow_x": null,
      "overflow_y": null,
      "padding": null,
      "right": null,
      "top": null,
      "visibility": null,
      "width": null
     }
    },
    "5ea1e1446b1640258e8999cfc200a1c8": {
     "model_module": "@jupyter-widgets/base",
     "model_name": "LayoutModel",
     "model_module_version": "1.2.0",
     "state": {
      "_model_module": "@jupyter-widgets/base",
      "_model_module_version": "1.2.0",
      "_model_name": "LayoutModel",
      "_view_count": null,
      "_view_module": "@jupyter-widgets/base",
      "_view_module_version": "1.2.0",
      "_view_name": "LayoutView",
      "align_content": null,
      "align_items": null,
      "align_self": null,
      "border": null,
      "bottom": null,
      "display": null,
      "flex": null,
      "flex_flow": null,
      "grid_area": null,
      "grid_auto_columns": null,
      "grid_auto_flow": null,
      "grid_auto_rows": null,
      "grid_column": null,
      "grid_gap": null,
      "grid_row": null,
      "grid_template_areas": null,
      "grid_template_columns": null,
      "grid_template_rows": null,
      "height": null,
      "justify_content": null,
      "justify_items": null,
      "left": null,
      "margin": null,
      "max_height": null,
      "max_width": null,
      "min_height": null,
      "min_width": null,
      "object_fit": null,
      "object_position": null,
      "order": null,
      "overflow": null,
      "overflow_x": null,
      "overflow_y": null,
      "padding": null,
      "right": null,
      "top": null,
      "visibility": null,
      "width": null
     }
    },
    "c0a33345de4e49a4997e68f1125310c9": {
     "model_module": "@jupyter-widgets/controls",
     "model_name": "DescriptionStyleModel",
     "model_module_version": "1.5.0",
     "state": {
      "_model_module": "@jupyter-widgets/controls",
      "_model_module_version": "1.5.0",
      "_model_name": "DescriptionStyleModel",
      "_view_count": null,
      "_view_module": "@jupyter-widgets/base",
      "_view_module_version": "1.2.0",
      "_view_name": "StyleView",
      "description_width": ""
     }
    },
    "c2b23ec1df6141d8b563c41b514c0bcb": {
     "model_module": "@jupyter-widgets/base",
     "model_name": "LayoutModel",
     "model_module_version": "1.2.0",
     "state": {
      "_model_module": "@jupyter-widgets/base",
      "_model_module_version": "1.2.0",
      "_model_name": "LayoutModel",
      "_view_count": null,
      "_view_module": "@jupyter-widgets/base",
      "_view_module_version": "1.2.0",
      "_view_name": "LayoutView",
      "align_content": null,
      "align_items": null,
      "align_self": null,
      "border": null,
      "bottom": null,
      "display": null,
      "flex": null,
      "flex_flow": null,
      "grid_area": null,
      "grid_auto_columns": null,
      "grid_auto_flow": null,
      "grid_auto_rows": null,
      "grid_column": null,
      "grid_gap": null,
      "grid_row": null,
      "grid_template_areas": null,
      "grid_template_columns": null,
      "grid_template_rows": null,
      "height": null,
      "justify_content": null,
      "justify_items": null,
      "left": null,
      "margin": null,
      "max_height": null,
      "max_width": null,
      "min_height": null,
      "min_width": null,
      "object_fit": null,
      "object_position": null,
      "order": null,
      "overflow": null,
      "overflow_x": null,
      "overflow_y": null,
      "padding": null,
      "right": null,
      "top": null,
      "visibility": null,
      "width": null
     }
    },
    "05e8780ee12e4abd9c9f88a09c24cc83": {
     "model_module": "@jupyter-widgets/controls",
     "model_name": "ProgressStyleModel",
     "model_module_version": "1.5.0",
     "state": {
      "_model_module": "@jupyter-widgets/controls",
      "_model_module_version": "1.5.0",
      "_model_name": "ProgressStyleModel",
      "_view_count": null,
      "_view_module": "@jupyter-widgets/base",
      "_view_module_version": "1.2.0",
      "_view_name": "StyleView",
      "bar_color": null,
      "description_width": ""
     }
    },
    "e7b4784e2f914b999ec5310e2168636a": {
     "model_module": "@jupyter-widgets/base",
     "model_name": "LayoutModel",
     "model_module_version": "1.2.0",
     "state": {
      "_model_module": "@jupyter-widgets/base",
      "_model_module_version": "1.2.0",
      "_model_name": "LayoutModel",
      "_view_count": null,
      "_view_module": "@jupyter-widgets/base",
      "_view_module_version": "1.2.0",
      "_view_name": "LayoutView",
      "align_content": null,
      "align_items": null,
      "align_self": null,
      "border": null,
      "bottom": null,
      "display": null,
      "flex": null,
      "flex_flow": null,
      "grid_area": null,
      "grid_auto_columns": null,
      "grid_auto_flow": null,
      "grid_auto_rows": null,
      "grid_column": null,
      "grid_gap": null,
      "grid_row": null,
      "grid_template_areas": null,
      "grid_template_columns": null,
      "grid_template_rows": null,
      "height": null,
      "justify_content": null,
      "justify_items": null,
      "left": null,
      "margin": null,
      "max_height": null,
      "max_width": null,
      "min_height": null,
      "min_width": null,
      "object_fit": null,
      "object_position": null,
      "order": null,
      "overflow": null,
      "overflow_x": null,
      "overflow_y": null,
      "padding": null,
      "right": null,
      "top": null,
      "visibility": null,
      "width": null
     }
    },
    "4261a3966d0448e890a589b37e1a1e2f": {
     "model_module": "@jupyter-widgets/controls",
     "model_name": "DescriptionStyleModel",
     "model_module_version": "1.5.0",
     "state": {
      "_model_module": "@jupyter-widgets/controls",
      "_model_module_version": "1.5.0",
      "_model_name": "DescriptionStyleModel",
      "_view_count": null,
      "_view_module": "@jupyter-widgets/base",
      "_view_module_version": "1.2.0",
      "_view_name": "StyleView",
      "description_width": ""
     }
    },
    "2de4c37c1b834a1d97a494be0eeeabbf": {
     "model_module": "@jupyter-widgets/controls",
     "model_name": "HBoxModel",
     "model_module_version": "1.5.0",
     "state": {
      "_dom_classes": [],
      "_model_module": "@jupyter-widgets/controls",
      "_model_module_version": "1.5.0",
      "_model_name": "HBoxModel",
      "_view_count": null,
      "_view_module": "@jupyter-widgets/controls",
      "_view_module_version": "1.5.0",
      "_view_name": "HBoxView",
      "box_style": "",
      "children": [
       "IPY_MODEL_1e5ce3d2689d4ab18197eeecbfc63e0d",
       "IPY_MODEL_edd2b7312d474725bf8d6271f6935d34",
       "IPY_MODEL_af6ac3e29c6547be86e3bc73579d5b27"
      ],
      "layout": "IPY_MODEL_754ba05eeb0442b5bdb8fcb7f39907dc"
     }
    },
    "1e5ce3d2689d4ab18197eeecbfc63e0d": {
     "model_module": "@jupyter-widgets/controls",
     "model_name": "HTMLModel",
     "model_module_version": "1.5.0",
     "state": {
      "_dom_classes": [],
      "_model_module": "@jupyter-widgets/controls",
      "_model_module_version": "1.5.0",
      "_model_name": "HTMLModel",
      "_view_count": null,
      "_view_module": "@jupyter-widgets/controls",
      "_view_module_version": "1.5.0",
      "_view_name": "HTMLView",
      "description": "",
      "description_tooltip": null,
      "layout": "IPY_MODEL_65bd019de0e94bbeaeeaea55d3a56743",
      "placeholder": "​",
      "style": "IPY_MODEL_8e0ce0ce0559449996fd6edf3097d4f2",
      "value": "100%"
     }
    },
    "edd2b7312d474725bf8d6271f6935d34": {
     "model_module": "@jupyter-widgets/controls",
     "model_name": "FloatProgressModel",
     "model_module_version": "1.5.0",
     "state": {
      "_dom_classes": [],
      "_model_module": "@jupyter-widgets/controls",
      "_model_module_version": "1.5.0",
      "_model_name": "FloatProgressModel",
      "_view_count": null,
      "_view_module": "@jupyter-widgets/controls",
      "_view_module_version": "1.5.0",
      "_view_name": "ProgressView",
      "bar_style": "",
      "description": "",
      "description_tooltip": null,
      "layout": "IPY_MODEL_540a9186d0a34c40a2c177f68a799795",
      "max": 36,
      "min": 0,
      "orientation": "horizontal",
      "style": "IPY_MODEL_25c48eeeae6b46cba5e69a25a08f79f6",
      "value": 36
     }
    },
    "af6ac3e29c6547be86e3bc73579d5b27": {
     "model_module": "@jupyter-widgets/controls",
     "model_name": "HTMLModel",
     "model_module_version": "1.5.0",
     "state": {
      "_dom_classes": [],
      "_model_module": "@jupyter-widgets/controls",
      "_model_module_version": "1.5.0",
      "_model_name": "HTMLModel",
      "_view_count": null,
      "_view_module": "@jupyter-widgets/controls",
      "_view_module_version": "1.5.0",
      "_view_name": "HTMLView",
      "description": "",
      "description_tooltip": null,
      "layout": "IPY_MODEL_e815a280ab014814be7c76319f901b52",
      "placeholder": "​",
      "style": "IPY_MODEL_898154b1898548bfbc1dcabc19dec971",
      "value": " 36/36 [00:32&lt;00:00,  1.13it/s]"
     }
    },
    "754ba05eeb0442b5bdb8fcb7f39907dc": {
     "model_module": "@jupyter-widgets/base",
     "model_name": "LayoutModel",
     "model_module_version": "1.2.0",
     "state": {
      "_model_module": "@jupyter-widgets/base",
      "_model_module_version": "1.2.0",
      "_model_name": "LayoutModel",
      "_view_count": null,
      "_view_module": "@jupyter-widgets/base",
      "_view_module_version": "1.2.0",
      "_view_name": "LayoutView",
      "align_content": null,
      "align_items": null,
      "align_self": null,
      "border": null,
      "bottom": null,
      "display": null,
      "flex": null,
      "flex_flow": null,
      "grid_area": null,
      "grid_auto_columns": null,
      "grid_auto_flow": null,
      "grid_auto_rows": null,
      "grid_column": null,
      "grid_gap": null,
      "grid_row": null,
      "grid_template_areas": null,
      "grid_template_columns": null,
      "grid_template_rows": null,
      "height": null,
      "justify_content": null,
      "justify_items": null,
      "left": null,
      "margin": null,
      "max_height": null,
      "max_width": null,
      "min_height": null,
      "min_width": null,
      "object_fit": null,
      "object_position": null,
      "order": null,
      "overflow": null,
      "overflow_x": null,
      "overflow_y": null,
      "padding": null,
      "right": null,
      "top": null,
      "visibility": null,
      "width": null
     }
    },
    "65bd019de0e94bbeaeeaea55d3a56743": {
     "model_module": "@jupyter-widgets/base",
     "model_name": "LayoutModel",
     "model_module_version": "1.2.0",
     "state": {
      "_model_module": "@jupyter-widgets/base",
      "_model_module_version": "1.2.0",
      "_model_name": "LayoutModel",
      "_view_count": null,
      "_view_module": "@jupyter-widgets/base",
      "_view_module_version": "1.2.0",
      "_view_name": "LayoutView",
      "align_content": null,
      "align_items": null,
      "align_self": null,
      "border": null,
      "bottom": null,
      "display": null,
      "flex": null,
      "flex_flow": null,
      "grid_area": null,
      "grid_auto_columns": null,
      "grid_auto_flow": null,
      "grid_auto_rows": null,
      "grid_column": null,
      "grid_gap": null,
      "grid_row": null,
      "grid_template_areas": null,
      "grid_template_columns": null,
      "grid_template_rows": null,
      "height": null,
      "justify_content": null,
      "justify_items": null,
      "left": null,
      "margin": null,
      "max_height": null,
      "max_width": null,
      "min_height": null,
      "min_width": null,
      "object_fit": null,
      "object_position": null,
      "order": null,
      "overflow": null,
      "overflow_x": null,
      "overflow_y": null,
      "padding": null,
      "right": null,
      "top": null,
      "visibility": null,
      "width": null
     }
    },
    "8e0ce0ce0559449996fd6edf3097d4f2": {
     "model_module": "@jupyter-widgets/controls",
     "model_name": "DescriptionStyleModel",
     "model_module_version": "1.5.0",
     "state": {
      "_model_module": "@jupyter-widgets/controls",
      "_model_module_version": "1.5.0",
      "_model_name": "DescriptionStyleModel",
      "_view_count": null,
      "_view_module": "@jupyter-widgets/base",
      "_view_module_version": "1.2.0",
      "_view_name": "StyleView",
      "description_width": ""
     }
    },
    "540a9186d0a34c40a2c177f68a799795": {
     "model_module": "@jupyter-widgets/base",
     "model_name": "LayoutModel",
     "model_module_version": "1.2.0",
     "state": {
      "_model_module": "@jupyter-widgets/base",
      "_model_module_version": "1.2.0",
      "_model_name": "LayoutModel",
      "_view_count": null,
      "_view_module": "@jupyter-widgets/base",
      "_view_module_version": "1.2.0",
      "_view_name": "LayoutView",
      "align_content": null,
      "align_items": null,
      "align_self": null,
      "border": null,
      "bottom": null,
      "display": null,
      "flex": null,
      "flex_flow": null,
      "grid_area": null,
      "grid_auto_columns": null,
      "grid_auto_flow": null,
      "grid_auto_rows": null,
      "grid_column": null,
      "grid_gap": null,
      "grid_row": null,
      "grid_template_areas": null,
      "grid_template_columns": null,
      "grid_template_rows": null,
      "height": null,
      "justify_content": null,
      "justify_items": null,
      "left": null,
      "margin": null,
      "max_height": null,
      "max_width": null,
      "min_height": null,
      "min_width": null,
      "object_fit": null,
      "object_position": null,
      "order": null,
      "overflow": null,
      "overflow_x": null,
      "overflow_y": null,
      "padding": null,
      "right": null,
      "top": null,
      "visibility": null,
      "width": null
     }
    },
    "25c48eeeae6b46cba5e69a25a08f79f6": {
     "model_module": "@jupyter-widgets/controls",
     "model_name": "ProgressStyleModel",
     "model_module_version": "1.5.0",
     "state": {
      "_model_module": "@jupyter-widgets/controls",
      "_model_module_version": "1.5.0",
      "_model_name": "ProgressStyleModel",
      "_view_count": null,
      "_view_module": "@jupyter-widgets/base",
      "_view_module_version": "1.2.0",
      "_view_name": "StyleView",
      "bar_color": null,
      "description_width": ""
     }
    },
    "e815a280ab014814be7c76319f901b52": {
     "model_module": "@jupyter-widgets/base",
     "model_name": "LayoutModel",
     "model_module_version": "1.2.0",
     "state": {
      "_model_module": "@jupyter-widgets/base",
      "_model_module_version": "1.2.0",
      "_model_name": "LayoutModel",
      "_view_count": null,
      "_view_module": "@jupyter-widgets/base",
      "_view_module_version": "1.2.0",
      "_view_name": "LayoutView",
      "align_content": null,
      "align_items": null,
      "align_self": null,
      "border": null,
      "bottom": null,
      "display": null,
      "flex": null,
      "flex_flow": null,
      "grid_area": null,
      "grid_auto_columns": null,
      "grid_auto_flow": null,
      "grid_auto_rows": null,
      "grid_column": null,
      "grid_gap": null,
      "grid_row": null,
      "grid_template_areas": null,
      "grid_template_columns": null,
      "grid_template_rows": null,
      "height": null,
      "justify_content": null,
      "justify_items": null,
      "left": null,
      "margin": null,
      "max_height": null,
      "max_width": null,
      "min_height": null,
      "min_width": null,
      "object_fit": null,
      "object_position": null,
      "order": null,
      "overflow": null,
      "overflow_x": null,
      "overflow_y": null,
      "padding": null,
      "right": null,
      "top": null,
      "visibility": null,
      "width": null
     }
    },
    "898154b1898548bfbc1dcabc19dec971": {
     "model_module": "@jupyter-widgets/controls",
     "model_name": "DescriptionStyleModel",
     "model_module_version": "1.5.0",
     "state": {
      "_model_module": "@jupyter-widgets/controls",
      "_model_module_version": "1.5.0",
      "_model_name": "DescriptionStyleModel",
      "_view_count": null,
      "_view_module": "@jupyter-widgets/base",
      "_view_module_version": "1.2.0",
      "_view_name": "StyleView",
      "description_width": ""
     }
    }
   }
  }
 },
 "nbformat": 4,
 "nbformat_minor": 0
}
