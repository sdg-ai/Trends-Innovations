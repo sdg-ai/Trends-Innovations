{
 "cells": [
  {
   "cell_type": "code",
   "execution_count": null,
   "outputs": [],
   "source": [
    "import wandb\n",
    "from train import DEFAULT_CONFIG, TRANSFORMERS_LIB, train, test\n",
    "from data.datasets import get_data_loaders\n",
    "from utils.utils import seed_everything\n",
    "from datetime import datetime"
   ],
   "metadata": {
    "collapsed": false
   },
   "id": "ef835ae7f0aa94dd"
  },
  {
   "cell_type": "code",
   "execution_count": null,
   "outputs": [],
   "source": [
    "WANDB_CONFIG = {\n",
    "  \"entity\": \"j-getzner\",\n",
    "  \"project\": \"Trends & Innovations Classifier\",\n",
    "  \"disabled\": False\n",
    "}"
   ],
   "metadata": {
    "collapsed": false
   },
   "id": "563f669e2aaa39e7"
  },
  {
   "cell_type": "code",
   "execution_count": null,
   "outputs": [],
   "source": [
    "model_name = \"distilbert-base-uncased\""
   ],
   "metadata": {
    "collapsed": false
   },
   "id": "7feb3b5053cf9f33"
  },
  {
   "cell_type": "code",
   "execution_count": null,
   "id": "initial_id",
   "metadata": {
    "collapsed": true
   },
   "outputs": [],
   "source": [
    "current_time = datetime.strftime(datetime.now(), format=\"%Y.%m.%d-%H:%M:%S\")\n",
    "current_config = DEFAULT_CONFIG.copy()\n",
    "current_config[\"seed\"] = current_config[\"initial_seed\"]\n",
    "if model_name:\n",
    "    current_config[\"model_name\"] = model_name\n",
    "for seed in range(current_config[\"num_seeds\"]):\n",
    "    # seed\n",
    "    current_config[\"seed\"] = current_config[\"initial_seed\"] + seed\n",
    "    seed_everything(current_config[\"seed\"])\n",
    "    # change save model dir\n",
    "    current_config[\"save_model_dir\"] = f\"{current_config['save_model_dir']}/{current_config['model_name']}/seed_{current_config['seed']}\"\n",
    "    # init model\n",
    "    current_model = TRANSFORMERS_LIB[current_config[\"model_name\"]].from_pretrained(\n",
    "        current_config[\"model_name\"],\n",
    "        num_labels=current_config[\"num_labels\"]\n",
    "    ).to(current_config[\"device\"])\n",
    "\n",
    "    # load data\n",
    "    data_loaders = get_data_loaders(current_config)\n",
    "\n",
    "    wandb.init(\n",
    "        entity=WANDB_CONFIG[\"entity\"],\n",
    "        project=WANDB_CONFIG[\"project\"],\n",
    "        config=current_config,\n",
    "        mode=\"disabled\" if WANDB_CONFIG[\"disabled\"] else \"online\",\n",
    "        group=f\"{current_time}-{current_config['model_name']}\",\n",
    "        job_type=\"train\",\n",
    "        name=\"seed_\"+str(current_config[\"seed\"])\n",
    "    )\n",
    "\n",
    "    train(current_model, data_loaders[\"train\"], data_loaders[\"val\"], current_config)\n",
    "    test(current_model, data_loaders[\"test\"], current_config)"
   ]
  }
 ],
 "metadata": {
  "kernelspec": {
   "display_name": "Python 3",
   "language": "python",
   "name": "python3"
  },
  "language_info": {
   "codemirror_mode": {
    "name": "ipython",
    "version": 2
   },
   "file_extension": ".py",
   "mimetype": "text/x-python",
   "name": "python",
   "nbconvert_exporter": "python",
   "pygments_lexer": "ipython2",
   "version": "2.7.6"
  }
 },
 "nbformat": 4,
 "nbformat_minor": 5
}
